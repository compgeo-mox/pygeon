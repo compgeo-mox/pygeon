{
 "cells": [
  {
   "cell_type": "markdown",
   "metadata": {},
   "source": [
    "# Poincaré operators\n",
    "\n",
    "In this tutorial, we show how Poincaré operators can be used to efficiently solve the mixed form of the Hodge Laplace problem. Letting $P \\Lambda^k$ denote the Whitney forms of order $k$, this problem is posed as : find $(v, u) \\in P \\Lambda^{k - 1} \\times P \\Lambda^k$ such that\n",
    "```math\n",
    "\\begin{align}\n",
    "\t(v, v')_\\Omega - (u, dv')_\\Omega &= \\langle g, v' \\rangle, &\n",
    "\t\\forall v' &\\in H \\Lambda^{k - 1}, \\\\\n",
    "\t(dv, u')_\\Omega + (du, du')_\\Omega &= \\langle f, u' \\rangle, &\n",
    "\t\\forall u' &\\in H \\Lambda^k.\n",
    "\\end{align}\n",
    "```\n",
    "\n",
    "In [this paper](https://arxiv.org/abs/2410.08830), we show how to construct decompositions $P \\Lambda^k = \\bar{P} \\Lambda^k \\oplus \\mathring{P} \\Lambda^k$ such that $d$ is invertible on $\\bar{P} \\Lambda^k$. In turn, the Hodge-Laplace problem can be solved in four sequential steps:\n",
    "```math\n",
    "\\begin{align}\n",
    "\t\t(d\\bar{v}, d\\bar{v}')_\\Omega\n",
    "\t\t&= \\langle f, d\\bar{v}' \\rangle, &\n",
    "\t\t\\forall \\bar{v}' &\\in \\bar{P} \\Lambda^{k - 1} \\\\\n",
    "\t\t(d\\bar{w}_v, d\\bar{w}')_\\Omega\n",
    "\t\t&= \\langle g, d\\bar{w}' \\rangle - (\\bar{v}, d\\bar{w}')_\\Omega, &\n",
    "\t\t\\forall \\bar{w}' &\\in \\bar{P} \\Lambda^{k - 2} \\\\\n",
    "\t\t(d\\bar{u}, d\\bar{u}')_\\Omega\n",
    "\t\t&= \\langle f, \\bar{u}' \\rangle - (d\\bar{v}, \\bar{u}')_\\Omega, &\n",
    "\t\t\\forall \\bar{u}' &\\in \\bar{P} \\Lambda^{k} \\\\\n",
    "\t\t(d\\bar{v}_u, d\\bar{v}')_\\Omega\n",
    "\t\t&= (\\bar{v} + d\\bar{w}_v, \\bar{v}')_\\Omega\n",
    "\t\t- (\\bar{u}, d\\bar{v}')_\\Omega\n",
    "\t\t- \\langle g, \\bar{v}' \\rangle, & \\forall \\bar{v}' &\\in \\bar{P} \\Lambda^{k - 1}.\n",
    "\\end{align}\n",
    "```"
   ]
  },
  {
   "cell_type": "code",
   "execution_count": 31,
   "metadata": {},
   "outputs": [],
   "source": [
    "import numpy as np\n",
    "import scipy.sparse as sps\n",
    "import time\n",
    "\n",
    "import pygeon as pg\n",
    "from pygeon.numerics.differentials import exterior_derivative as diff\n",
    "from pygeon.numerics.innerproducts import mass_matrix"
   ]
  },
  {
   "cell_type": "code",
   "execution_count": 32,
   "metadata": {},
   "outputs": [
    {
     "name": "stdout",
     "output_type": "stream",
     "text": [
      "\n",
      "Tetrahedral grid.\n",
      "Number of cells 4613\n",
      "Number of faces 9960\n",
      "Number of nodes 1146\n",
      "\n"
     ]
    }
   ],
   "source": [
    "h = 0.1\n",
    "dim = 3\n",
    "\n",
    "# Grid generation\n",
    "mdg = pg.unit_grid(dim, h)\n",
    "pg.convert_from_pp(mdg)\n",
    "mdg.compute_geometry()\n",
    "sd = mdg.subdomains(dim=dim)[0]\n",
    "print(sd)\n",
    "\n",
    "# Create the Poincare object\n",
    "poin = pg.Poincare(mdg)\n"
   ]
  },
  {
   "cell_type": "code",
   "execution_count": 33,
   "metadata": {},
   "outputs": [],
   "source": [
    "np.random.seed(0)\n",
    "\n",
    "f_list = [None] * (dim + 1)\n",
    "f_list[0] = np.random.rand(sd.num_nodes)\n",
    "f_list[dim - 2] = np.random.rand(mdg.num_subdomain_ridges())\n",
    "f_list[dim - 1] = np.random.rand(mdg.num_subdomain_faces())\n",
    "f_list[dim] = np.random.rand(mdg.num_subdomain_cells())\n",
    "\n",
    "\n",
    "# Assemble mass, differential, and stiffness matrices\n",
    "M = [mass_matrix(mdg, dim - k, None) for k in range(dim + 1)] # (u, u')\n",
    "D = [diff(mdg, dim - k) for k in range(dim)] # du\n",
    "MD = [M[k + 1] @ D[k] for k in range(dim)] # (du, v')\n",
    "S = [D[k].T @ MD[k] for k in range(dim)] # (du, du')\n",
    "S.append(0)\n",
    "\n",
    "# Subtract the mean from the 0-form right-hand side\n",
    "f_list[0] -= np.sum(M[0] @ f_list[0]) / M[0].sum()"
   ]
  },
  {
   "cell_type": "code",
   "execution_count": 34,
   "metadata": {},
   "outputs": [],
   "source": [
    "def timed_solve(A, b):\n",
    "    t = time.time()\n",
    "    sol = sps.linalg.spsolve(A.tocsc(), b)\n",
    "    print(\"ndof: {}, Time: {:1.2f}s\".format(len(b), time.time() - t))\n",
    "\n",
    "    return sol\n",
    "\n",
    "\n",
    "def solve_subproblem(poin, k, rhs):\n",
    "    LS = pg.LinearSystem(S[k], rhs)\n",
    "    LS.flag_ess_bc(~poin.bar_spaces[k], np.zeros_like(poin.bar_spaces[k]))\n",
    "\n",
    "    return LS.solve(solver=timed_solve)"
   ]
  },
  {
   "cell_type": "code",
   "execution_count": 35,
   "metadata": {},
   "outputs": [
    {
     "name": "stdout",
     "output_type": "stream",
     "text": [
      "Full   |ndof: 16452, Time: 1.96s\n",
      "----------------------------------\n",
      "Step 1 |ndof: 5347, Time: 0.10s\n",
      "Step 2 |ndof: 1145, Time: 0.01s\n",
      "Step 3 |ndof: 4613, Time: 0.00s\n",
      "Step 4 |ndof: 5347, Time: 0.10s\n"
     ]
    }
   ],
   "source": [
    "# Specify the order of u\n",
    "k = 2\n",
    "\n",
    "assert k >= 1  # There is no point in doing all of this for the 0-forms.\n",
    "\n",
    "# Extract the right-hand sides from the randomly generated distributions\n",
    "f = f_list[k]\n",
    "g = f_list[k - 1]\n",
    "\n",
    "# First, we perform a direct solve of the original problem\n",
    "print(\"Full   |\", end=\"\")\n",
    "\n",
    "# Assembly\n",
    "saddle_point = sps.bmat([[M[k - 1], -MD[k - 1].T], [MD[k - 1], S[k]]])\n",
    "LS = pg.LinearSystem(saddle_point, np.hstack((M[k - 1] @ g, M[k] @ f)))\n",
    "\n",
    "# Solve the full system\n",
    "full_sol = LS.solve(solver=timed_solve)\n",
    "\n",
    "# Split the solution into v and u\n",
    "v_full = full_sol[: g.size]\n",
    "u_full = full_sol[g.size :]\n",
    "\n",
    "print(\"----------------------------------\")\n",
    "\n",
    "# Second, we solve the problem in four steps\n",
    "\n",
    "print(\"Step 1 |\", end=\"\") \n",
    "# Solve for bar{v}\n",
    "v_bar = solve_subproblem(poin, k - 1, MD[k - 1].T @ f)\n",
    "\n",
    "print(\"Step 2 |\", end=\"\") \n",
    "# Solve for bar{w}_v and set v = bar{v} + d bar{w}_v\n",
    "if k >= 2:\n",
    "    w_v_bar = solve_subproblem(poin, k - 2, MD[k - 2].T @ (g - v_bar))\n",
    "    v = v_bar + D[k - 2] @ w_v_bar\n",
    "\n",
    "else:  # k = 1.\n",
    "    # There are no (k - 2)-forms, but we do need to subtract the mean of the solution.\n",
    "    print(\"ndof: 0, Time: 0.00s\")\n",
    "    v = v_bar - np.sum(M[0] @ v_bar) / M[0].sum()\n",
    "\n",
    "print(\"Step 3 |\", end=\"\") \n",
    "# Solve for bar{u}\n",
    "u_bar = solve_subproblem(poin, k, M[k] @ f - MD[k - 1] @ v)\n",
    "\n",
    "print(\"Step 4 |\", end=\"\") \n",
    "# Solve for bar{v}_u and set u = bar{u} + d bar{v}_u\n",
    "v_u = solve_subproblem(poin, k - 1, M[k - 1] @ (v - g) - MD[k - 1].T @ u_bar)\n",
    "u = u_bar + D[k - 1] @ v_u\n",
    "\n",
    "\n",
    "assert np.allclose(v_full, v)\n",
    "assert np.allclose(u_full, u)"
   ]
  }
 ],
 "metadata": {
  "kernelspec": {
   "display_name": ".venv",
   "language": "python",
   "name": "python3"
  },
  "language_info": {
   "codemirror_mode": {
    "name": "ipython",
    "version": 3
   },
   "file_extension": ".py",
   "mimetype": "text/x-python",
   "name": "python",
   "nbconvert_exporter": "python",
   "pygments_lexer": "ipython3",
   "version": "3.10.12"
  }
 },
 "nbformat": 4,
 "nbformat_minor": 2
}
