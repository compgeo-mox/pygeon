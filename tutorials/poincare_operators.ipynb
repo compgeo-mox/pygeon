{
 "cells": [
  {
   "cell_type": "markdown",
   "metadata": {},
   "source": [
    "# Poincaré operators\n",
    "\n",
    "In this tutorial, we show how Poincaré operators can be used to efficiently solve the mixed form of the Hodge Laplace problem. Letting $P \\Lambda^k$ denote the Whitney forms of order $k$, this problem is posed as : find $(v, u) \\in P \\Lambda^{k - 1} \\times P \\Lambda^k$ such that\n",
    "$$\n",
    "\\begin{align*}\n",
    "\t(v, v')_\\Omega - (u, dv')_\\Omega &= \\langle g, v' \\rangle, &\n",
    "\t\\forall v' &\\in P \\Lambda^{k - 1}, \\\\\n",
    "\t(dv, u')_\\Omega + (du, du')_\\Omega &= \\langle f, u' \\rangle, &\n",
    "\t\\forall u' &\\in P \\Lambda^k.\n",
    "\\end{align*}\n",
    "$$\n",
    "\n",
    "It is assumed that the boundary conditions are natural and homogeneous.\n",
    "\n",
    "For $k = dim(\\Omega)$, this corresponds to the mixed formulation of the Poisson equation that is commonly used to model Darcy flow.\n",
    "\n",
    "In [this paper](https://arxiv.org/abs/2410.08830), we show how to construct subspaces $\\bar{P} \\Lambda^k \\subseteq P \\Lambda^k$ such that $P \\Lambda^k = \\bar{P} \\Lambda^k \\oplus d \\bar{P} \\Lambda^{k - 1}$ and $d$ is invertible on $\\bar{P} \\Lambda^k$. In turn, the Hodge-Laplace problem can be solved in four sequential steps:\n",
    "$$\n",
    "\\begin{align}\n",
    "\t\t(d\\bar{v}, d\\bar{v}')_\\Omega\n",
    "\t\t&= \\langle f, d\\bar{v}' \\rangle, &\n",
    "\t\t\\forall \\bar{v}' &\\in \\bar{P} \\Lambda^{k - 1} \\\\\n",
    "\t\t(d\\bar{w}_v, d\\bar{w}')_\\Omega\n",
    "\t\t&= \\langle g, d\\bar{w}' \\rangle - (\\bar{v}, d\\bar{w}')_\\Omega, &\n",
    "\t\t\\forall \\bar{w}' &\\in \\bar{P} \\Lambda^{k - 2} \\\\\n",
    "\t\t(d\\bar{u}, d\\bar{u}')_\\Omega\n",
    "\t\t&= \\langle f, \\bar{u}' \\rangle - (d\\bar{v}, \\bar{u}')_\\Omega, &\n",
    "\t\t\\forall \\bar{u}' &\\in \\bar{P} \\Lambda^{k} \\\\\n",
    "\t\t(d\\bar{v}_u, d\\bar{v}')_\\Omega\n",
    "\t\t&= (\\bar{v} + d\\bar{w}_v, \\bar{v}')_\\Omega\n",
    "\t\t- (\\bar{u}, d\\bar{v}')_\\Omega\n",
    "\t\t- \\langle g, \\bar{v}' \\rangle, & \\forall \\bar{v}' &\\in \\bar{P} \\Lambda^{k - 1}.\n",
    "\\end{align}\n",
    "$$\n",
    "We can then recover the full solution by setting $v = \\bar{v} + d \\bar{w}_v$ and $u = \\bar{u} + d \\bar{v}_u$. In this notebook, we show that this four-step solution procedure is significantly faster than a direct solve of the original problem. \n",
    "\n",
    "Let's start by importing the necessary Python packages."
   ]
  },
  {
   "cell_type": "code",
   "execution_count": 2,
   "metadata": {},
   "outputs": [],
   "source": [
    "import numpy as np\n",
    "import scipy.sparse as sps\n",
    "import time\n",
    "\n",
    "import pygeon as pg\n",
    "from pygeon.numerics.differentials import exterior_derivative as diff\n",
    "from pygeon.numerics.innerproducts import mass_matrix"
   ]
  },
  {
   "cell_type": "markdown",
   "metadata": {},
   "source": [
    "We then grid the unit cube using a mesh size $h = \\frac1{10}$, and construct a `Poincare` object. This object will contain the necessary information to set up the four subproblems."
   ]
  },
  {
   "cell_type": "code",
   "execution_count": 3,
   "metadata": {},
   "outputs": [
    {
     "name": "stdout",
     "output_type": "stream",
     "text": [
      "\n",
      "Mixed-dimensional grid. \n",
      "Maximum dimension present: 3 \n",
      "Minimum dimension present: 3 \n",
      "Size of highest dimensional grid: Cells: 4613. Nodes: 1146\n",
      "In lower dimensions: \n",
      "Total number of interfaces: 0\n",
      "\n"
     ]
    }
   ],
   "source": [
    "h = 1 / 10\n",
    "dim = 3\n",
    "\n",
    "# Grid generation\n",
    "mdg = pg.unit_grid(dim, h)\n",
    "mdg.compute_geometry()\n",
    "print(mdg)\n",
    "\n",
    "# Create the Poincare object\n",
    "poin = pg.Poincare(mdg)"
   ]
  },
  {
   "cell_type": "markdown",
   "metadata": {},
   "source": [
    "For easy access, we generate random right-hand sides and store them in `f_list`. Moreover, the mass matrix for the $k$-forms are stored as `Mass[k]` for $k \\in [0, n]$ and we store each differential operator $d: P \\Lambda^k \\to P \\Lambda^{k + 1}$ in `Diff[k]`. \n",
    "This allows for rapid switching between the different Hodge-Laplace problems later on."
   ]
  },
  {
   "cell_type": "code",
   "execution_count": 4,
   "metadata": {},
   "outputs": [],
   "source": [
    "np.random.seed(0)\n",
    "f_list = [None] * (dim + 1)\n",
    "f_list[0] = np.random.rand(mdg.num_subdomain_peaks())\n",
    "f_list[dim - 2] = np.random.rand(mdg.num_subdomain_ridges())\n",
    "f_list[dim - 1] = np.random.rand(mdg.num_subdomain_faces())\n",
    "f_list[dim] = np.random.rand(mdg.num_subdomain_cells())\n",
    "\n",
    "\n",
    "# Assemble mass, differential, and stiffness matrices\n",
    "Mass = [mass_matrix(mdg, dim - k, None) for k in range(dim + 1)]  # (u, u')\n",
    "Diff = [diff(mdg, dim - k) for k in range(dim)]  # du\n",
    "MD = [Mass[k + 1] @ Diff[k] for k in range(dim)]  # (du, v')\n",
    "Stiff = [Diff[k].T @ MD[k] for k in range(dim)]  # (du, du')\n",
    "Stiff.append(pg.cell_stiff(mdg))  # The stiffness matrix of the n-forms is zero\n",
    "\n",
    "\n",
    "# Using the mass matrix of the 0-forms, we subtract the mean\n",
    "# from the 0-form right-hand side so that it becomes admissible.\n",
    "f_list[0] -= np.sum(Mass[0] @ f_list[0]) / np.sum(Mass[0])"
   ]
  },
  {
   "cell_type": "markdown",
   "metadata": {},
   "source": [
    "Since we are interested in comparing solution times, we introduce a small solver function that prints the relevant information."
   ]
  },
  {
   "cell_type": "code",
   "execution_count": 5,
   "metadata": {},
   "outputs": [],
   "source": [
    "def timed_solve(A, b):\n",
    "    \"\"\"\n",
    "    Takes a matrix A and a vector b, solves the system,\n",
    "    and prints the system size and solution time.\n",
    "    \"\"\"\n",
    "    t = time.time()\n",
    "    sol = sps.linalg.spsolve(A.tocsc(), b)\n",
    "    print(\"ndof: {:>7}, Time: {:>7.2f}s\".format(len(b), time.time() - t))\n",
    "\n",
    "    return sol"
   ]
  },
  {
   "cell_type": "markdown",
   "metadata": {},
   "source": [
    "We are now ready to set up and solve the Hodge Laplace problem for given value of $k$."
   ]
  },
  {
   "cell_type": "code",
   "execution_count": 6,
   "metadata": {},
   "outputs": [
    {
     "name": "stdout",
     "output_type": "stream",
     "text": [
      "Full   |ndof:   16452, Time:    6.51s\n",
      "----------------------------------\n",
      "Step 1 |ndof:    5347, Time:    0.33s\n",
      "Step 2 |ndof:    1145, Time:    0.02s\n",
      "Step 3 |ndof:    4613, Time:    0.00s\n",
      "Step 4 |ndof:    5347, Time:    0.33s\n"
     ]
    }
   ],
   "source": [
    "# Specify the order of u\n",
    "k = 2\n",
    "\n",
    "assert k >= 1 and k <= dim  # This is only interesting for k \\in [1, n]\n",
    "\n",
    "# Extract the right-hand sides from the randomly generated distributions\n",
    "f = f_list[k]\n",
    "g = f_list[k - 1]\n",
    "\n",
    "# First, we assemble the original saddle-point problem\n",
    "# fmt: off\n",
    "saddle_point = sps.block_array([[Mass[k - 1], -MD[k - 1].T],\n",
    "                                [  MD[k - 1],     Stiff[k]]], format=\"csc\"\n",
    ")\n",
    "# fmt: on\n",
    "LS = pg.LinearSystem(saddle_point, np.hstack((Mass[k - 1] @ g, Mass[k] @ f)))\n",
    "\n",
    "# Solve the full system\n",
    "print(\"Full   |\", end=\"\")\n",
    "full_sol = LS.solve(solver=timed_solve)\n",
    "\n",
    "# Split the solution into v and u\n",
    "v_full = full_sol[: g.size]\n",
    "u_full = full_sol[g.size :]\n",
    "\n",
    "print(\"----------------------------------\")\n",
    "\n",
    "# Second, we solve the problem in four steps\n",
    "\n",
    "# Solve for bar{v}\n",
    "print(\"Step 1 |\", end=\"\")\n",
    "rhs_1 = MD[k - 1].T @ f\n",
    "v_bar = poin.solve_subproblem(k - 1, Stiff[k - 1], rhs_1, solver=timed_solve)\n",
    "\n",
    "# Solve for bar{w}_v and set v = bar{v} + d bar{w}_v\n",
    "print(\"Step 2 |\", end=\"\")\n",
    "if k >= 2:\n",
    "    rhs_2 = MD[k - 2].T @ (g - v_bar)\n",
    "    w_v_bar = poin.solve_subproblem(k - 2, Stiff[k - 2], rhs_2, solver=timed_solve)\n",
    "    v = v_bar + Diff[k - 2] @ w_v_bar\n",
    "else:  # k = 1.\n",
    "    # There are no (k - 2)-forms in this case,\n",
    "    # but we do need to subtract the mean from v.\n",
    "    print(\"ndof: 0, Time: 0.00s\")\n",
    "    v = v_bar - np.sum(Mass[0] @ v_bar) / np.sum(Mass[0])\n",
    "\n",
    "# Solve for bar{u}\n",
    "print(\"Step 3 |\", end=\"\")\n",
    "rhs_3 = Mass[k] @ f - MD[k - 1] @ v\n",
    "u_bar = poin.solve_subproblem(k, Stiff[k], rhs_3, solver=timed_solve)\n",
    "\n",
    "# Solve for bar{v}_u and set u = bar{u} + d bar{v}_u\n",
    "print(\"Step 4 |\", end=\"\")\n",
    "rhs_4 = Mass[k - 1] @ (v - g) - MD[k - 1].T @ u_bar\n",
    "v_u = poin.solve_subproblem(k - 1, Stiff[k - 1], rhs_4, solver=timed_solve)\n",
    "u = u_bar + Diff[k - 1] @ v_u\n",
    "\n",
    "# Check whether the solutions are identical\n",
    "assert np.allclose(v_full, v)\n",
    "assert np.allclose(u_full, u)"
   ]
  }
 ],
 "metadata": {
  "kernelspec": {
   "display_name": "py3.13",
   "language": "python",
   "name": "python3"
  },
  "language_info": {
   "codemirror_mode": {
    "name": "ipython",
    "version": 3
   },
   "file_extension": ".py",
   "mimetype": "text/x-python",
   "name": "python",
   "nbconvert_exporter": "python",
   "pygments_lexer": "ipython3",
   "version": "3.13.0"
  }
 },
 "nbformat": 4,
 "nbformat_minor": 2
}
