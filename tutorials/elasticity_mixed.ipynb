{
 "cells": [
  {
   "attachments": {},
   "cell_type": "markdown",
   "id": "essential-american",
   "metadata": {},
   "source": [
    "# Elasticity equation in mixed form\n",
    "\n",
    "In this tutorial we present how to solve the elasticity equation with [PyGeoN](https://github.com/compgeo-mox/pygeon) in mixed form.  The unknowns are the stress $\\sigma$, the displacement $u$, and the rotation $r$.\n",
    "\n",
    "Let $\\Omega=(0,1)^2$ with boundary $\\partial \\Omega$ and outward unit normal ${\\nu}$. Given \n",
    "$\\lambda$ Lamé constant and $\\mu$ the Kirchhoff modulus, we want to solve the following problem: find $(\\sigma, u, r)$ such that\n",
    "\\begin{align*}\n",
    "&A \\sigma - \\epsilon(u) - {\\rm asym}^* r = 0\\\\\n",
    "&\\nabla \\cdot \\sigma = - b\\\\\n",
    "&{\\rm asym}\\, \\sigma = 0\n",
    "\\end{align*}\n",
    "with $\\epsilon$ the symmetric gradient and $b$ a body force, which is set to $0$ in this example.\n",
    "The operator $A$ is defined as\n",
    "$$\n",
    "A \\sigma = \\frac{1}{2\\mu}\\left( \\sigma -\\frac{\\lambda}{2\\mu + d \\lambda} {\\rm Tr}(\\sigma) I\\right)\n",
    "$$\n",
    "with $d$ the dimension of the domain, here $d=2$.\n",
    "Finally, ${\\rm asym}$ is the asymmetric operator, which is defined as followed\n",
    "$$\n",
    "    {\\rm asym }\\, \\sigma = \\begin{bmatrix}\n",
    "        \\sigma_{32} - \\sigma_{23} \\\\\n",
    "        \\sigma_{13} - \\sigma_{31} \\\\\n",
    "        \\sigma_{21} - \\sigma_{12}\n",
    "    \\end{bmatrix} \n",
    "    \\qquad\n",
    "    {\\rm asym}^* r =\n",
    "    \\begin{bmatrix}\n",
    "        0    & -r_3 & r_2  \\\\\n",
    "        r_3  & 0    & -r_1 \\\\\n",
    "        -r_2 & r_1  & 0\n",
    "    \\end{bmatrix}\n",
    "    \\qquad\n",
    "    d = 3\\\\\n",
    "    {\\rm asym} \\, \\sigma  = \\sigma_{21} - \\sigma_{12} \\qquad\n",
    "    {\\rm asym}^* r =\n",
    "    \\begin{bmatrix}\n",
    "        0 & -r \\\\\n",
    "        r & 0\n",
    "    \\end{bmatrix} \\qquad\n",
    "    d = 2.\n",
    "$$\n",
    "For this test case we set the following boundary conditions related to the so-called footstep problem:\n",
    "$$ u = 0 \\text{ on } \\partial_{bottom} \\Omega \\qquad \\nu \\cdot \\sigma = [0, 0]^\\top \\text{ on } \\partial_{left} \\Omega \\cup \\partial_{right} \\Omega \\qquad \\nu \\cdot \\sigma = [0, -1]^\\top \\text{ on } \\partial_{top} \\Omega$$\n",
    "\n",
    "We present *step-by-step* how to create the grid, declare the problem data, and finally solve the problem."
   ]
  },
  {
   "cell_type": "markdown",
   "id": "planned-danger",
   "metadata": {},
   "source": [
    "First we import some of the standard modules, like `numpy` and `scipy.sparse`. Since PyGeoN is based on [PorePy](https://github.com/pmgbergen/porepy) we import both modules."
   ]
  },
  {
   "cell_type": "code",
   "execution_count": 1,
   "id": "dietary-perth",
   "metadata": {},
   "outputs": [],
   "source": [
    "import numpy as np\n",
    "import scipy.sparse as sps\n",
    "\n",
    "import porepy as pp\n",
    "import pygeon as pg"
   ]
  },
  {
   "cell_type": "markdown",
   "id": "roman-glossary",
   "metadata": {},
   "source": [
    "We create now the grid, since we use vector BDM1 for ${\\sigma}$, vector piece-wise constant for $u$ and piece-wise constant for $r$, we are restricted to simplices. In this example we consider a 2-dimensional structured grid, but the presented code will work also in 3d with the only attention that in 3d the rotations should be discretized with vector piece-wise constant finite elements."
   ]
  },
  {
   "cell_type": "code",
   "execution_count": 2,
   "id": "spectacular-saturn",
   "metadata": {},
   "outputs": [
    {
     "name": "stdout",
     "output_type": "stream",
     "text": [
      "\n"
     ]
    }
   ],
   "source": [
    "mesh_size = 0.05\n",
    "dim = 2\n",
    "\n",
    "sd = pg.unit_grid(dim, mesh_size, as_mdg=False)\n",
    "sd.compute_geometry()"
   ]
  },
  {
   "cell_type": "markdown",
   "id": "d625fca2",
   "metadata": {},
   "source": [
    "We define now the finite element spaces for all the variables."
   ]
  },
  {
   "cell_type": "code",
   "execution_count": 3,
   "id": "52400a88",
   "metadata": {},
   "outputs": [],
   "source": [
    "key = \"elasticity\"\n",
    "\n",
    "# finite element spaces\n",
    "vec_bdm1 = pg.VecBDM1(key)\n",
    "vec_p0 = pg.VecPwConstants(key)\n",
    "p0 = pg.PwConstants(key)\n",
    "\n",
    "# build the degrees of freedom\n",
    "dofs = np.array([vec_bdm1.ndof(sd), vec_p0.ndof(sd), p0.ndof(sd)])"
   ]
  },
  {
   "cell_type": "markdown",
   "id": "precious-belle",
   "metadata": {},
   "source": [
    "With the following code we set the data, in particular the Lamé and the Kirchhoff modulus, and the boundary conditions. Since we need to identify each side of $\\partial \\Omega$ we need few steps."
   ]
  },
  {
   "cell_type": "code",
   "execution_count": 4,
   "id": "spare-person",
   "metadata": {},
   "outputs": [],
   "source": [
    "data = {pp.PARAMETERS: {key: {\"lambda\": 1, \"mu\": 0.5}}}\n",
    "\n",
    "# select the portions of the boundary where we want to apply the boundary conditions\n",
    "bottom = np.isclose(sd.face_centers[1, :], 0)\n",
    "top = np.isclose(sd.face_centers[1, :], 1)\n",
    "left = np.isclose(sd.face_centers[0, :], 0)\n",
    "right = np.isclose(sd.face_centers[0, :], 1)\n",
    "\n",
    "# select the part of the boundary where we apply the essential boundary conditions\n",
    "b_faces = np.logical_or.reduce((top, left, right))\n",
    "ess_dof = np.tile(b_faces, sd.dim**2)\n",
    "\n",
    "# function for the essential boundary conditions\n",
    "val = np.array([[0, 0, 0], [0, -1, 0]])\n",
    "fct = lambda pt: val if np.isclose(pt[1], 1) else 0 * val\n",
    "\n",
    "# interpolate the essential boundary conditions\n",
    "ess_val = vec_bdm1.interpolate(sd, fct)"
   ]
  },
  {
   "attachments": {},
   "cell_type": "markdown",
   "id": "secure-flesh",
   "metadata": {},
   "source": [
    "Once the data are assigned to the grid, we construct the matrices. Once the latter is created, we also construct the right-hand side containing the boundary conditions."
   ]
  },
  {
   "cell_type": "code",
   "execution_count": 5,
   "id": "romance-findings",
   "metadata": {},
   "outputs": [],
   "source": [
    "# assemble mass matrices\n",
    "Ms = vec_bdm1.assemble_mass_matrix(sd, data)\n",
    "Mu = vec_p0.assemble_mass_matrix(sd)\n",
    "Mr = p0.assemble_mass_matrix(sd)\n",
    "\n",
    "# assemble matrices associated with the divergence and asymmetry operators\n",
    "div = Mu @ vec_bdm1.assemble_diff_matrix(sd)\n",
    "asym = Mr @ vec_bdm1.assemble_asym_matrix(sd)\n",
    "\n",
    "# assemble the saddle point problem matrix\n",
    "# fmt: off\n",
    "spp = sps.bmat([[  Ms, div.T, -asym.T],\n",
    "                [-div,  None,    None],\n",
    "                [asym,  None,    None]], format = \"csc\")\n",
    "# fmt: on"
   ]
  },
  {
   "cell_type": "markdown",
   "id": "mobile-nirvana",
   "metadata": {},
   "source": [
    "We need to solve the linear system, PyGeoN provides a framework for that. The actual imposition of essential boundary conditions (stress boundary conditions) might change the symmetry of the global system, the class `pg.LinearSystem` preserves this structure by internally eliminating these degrees of freedom."
   ]
  },
  {
   "cell_type": "code",
   "execution_count": 6,
   "id": "subtle-wonder",
   "metadata": {},
   "outputs": [],
   "source": [
    "# solve the linear system\n",
    "ls = pg.LinearSystem(spp, np.zeros(spp.shape[0]))\n",
    "ls.flag_ess_bc(np.where(ess_dof)[0], ess_val)\n",
    "x = ls.solve()\n",
    "\n",
    "# split the solution into the components\n",
    "idx = np.cumsum(dofs[:-1])\n",
    "sigma, u, r = np.split(x, idx)"
   ]
  },
  {
   "cell_type": "markdown",
   "id": "pacific-alpha",
   "metadata": {},
   "source": [
    "We finally export the solution to be visualized by [ParaView](https://www.paraview.org/)."
   ]
  },
  {
   "cell_type": "code",
   "execution_count": 7,
   "id": "satisfactory-jerusalem",
   "metadata": {},
   "outputs": [],
   "source": [
    "# post process of the displacement\n",
    "proj_u = vec_p0.eval_at_cell_centers(sd)\n",
    "cell_u = (proj_u @ u).reshape((sd.dim, -1), order=\"C\")\n",
    "# since we are in 2d we need to add the z component for the exporting\n",
    "cell_u = np.vstack((cell_u, np.zeros(cell_u.shape[1])))\n",
    "\n",
    "# post process of the rotation\n",
    "proj_r = p0.eval_at_cell_centers(sd)\n",
    "cell_r = proj_r @ r\n",
    "\n",
    "save = pp.Exporter(sd, \"sol\")\n",
    "save.write_vtu([(\"cell_u\", cell_u), (\"cell_r\", cell_r)])"
   ]
  },
  {
   "cell_type": "markdown",
   "id": "developing-mobile",
   "metadata": {},
   "source": [
    "A representation of the computed solution is given below. <br>\n",
    "![](fig/elasticity_mixed.png)\n",
    "<br>\n",
    "![](fig/elasticity_mixed1.png)"
   ]
  }
 ],
 "metadata": {
  "kernelspec": {
   "display_name": "Python 3 (ipykernel)",
   "language": "python",
   "name": "python3"
  },
  "language_info": {
   "codemirror_mode": {
    "name": "ipython",
    "version": 3
   },
   "file_extension": ".py",
   "mimetype": "text/x-python",
   "name": "python",
   "nbconvert_exporter": "python",
   "pygments_lexer": "ipython3",
   "version": "3.11.1"
  },
  "vscode": {
   "interpreter": {
    "hash": "e4cc1db98167c7fd7d55a1da8057731abc6cd6fe154328a2ae319df8aab4e24d"
   }
  }
 },
 "nbformat": 4,
 "nbformat_minor": 5
}
