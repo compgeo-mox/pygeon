{
 "cells": [
  {
   "cell_type": "markdown",
   "id": "2f0f61b7",
   "metadata": {},
   "source": [
    "# Implementation choices for the approximation spaces\n",
    "\n",
    "We here detail the definition of the considered basis functions  and, in particular, their scaling with the geometrical properties."
   ]
  },
  {
   "cell_type": "markdown",
   "id": "9c88c39f",
   "metadata": {},
   "source": [
    "## Piecewise constant\n",
    "\n",
    "Let us call $T$ a cell, we define the $j$-th basis function for the P0 space as\n",
    "$$\n",
    "\\phi_i(x) = \\frac{1}{|T|}\n",
    "$$\n",
    "We have the following property\n",
    "$$\n",
    "\\int_T \\phi_i = 1\n",
    "$$\n",
    "The local mass matrix for the P0 is given by\n",
    "$$\n",
    "A_T = \\frac{1}{|T|}\n",
    "$$"
   ]
  },
  {
   "cell_type": "markdown",
   "id": "8cf21407",
   "metadata": {},
   "source": [
    "## Raviart-Thomas \n",
    "\n",
    "Let us call $F_i$ the facets of a $n$-dimensional simplex named $T$, we define the $j$-th basis function for the RT0 space as\n",
    "$$\n",
    "\\psi_{F_i}(x) =  \\frac{\\sigma_i}{n|T|} (x-P_i) \\quad \\text{for } i=1,\\ldots,n+1\n",
    "$$\n",
    "where $\\sigma_i = \\nu_i \\cdot \\nu_{F_i}$ and $\\nu_{F_i}$ the global fixed orientation of the facet $F_i$ and $\\nu_{i}$ is the local orientation. We have the following properties of $\\psi_{F_i}$, for its divergence\n",
    "$$\n",
    "\\nabla \\cdot \\psi_{F_i} = \\frac{\\sigma_i}{|T|}\n",
    "\\quad \\Rightarrow \\quad\n",
    "\\int_T \\nabla \\cdot \\psi_{F_i} = \\sigma_i\n",
    "$$\n",
    "and for the normal flux\n",
    "$$\n",
    "\\psi_{F_i} \\cdot \\nu_{F_j} = \\frac{\\delta_{ij}}{|F_i|}\n",
    "\\quad \\Rightarrow \\quad\n",
    "\\int_{F_j} \\psi_{F_i} \\cdot \\nu_{F_j} = \\delta_{ij}\n",
    "$$\n",
    "\n",
    "Let us consider the construction given in the following [paper](https://doi.org/10.2478/cmam-2005-0016), in particular Lemma 4.6, here extended for the $n$-dimensional case. We introduce the constant matrix\n",
    "$$\n",
    "HB = \\frac{T+T^\\top}{n^2 (n+1) (n+2)}\n",
    "\\quad \\text{with} \\quad\n",
    "T = \\sum_{i \\in \\mathcal{N}} diag(ones, i)\n",
    "$$\n",
    "where $\\mathcal{N} = $ ``np.arange(0, n(n+1), n)`` and $diag(ones, i)$ is a matrix with unitary upper $i$-th diagonal. For a given simplex $T$, here detailed for $n=2$, we introduce the matrix associated with its vertices and sign of the faces as\n",
    "$$\n",
    "N = \n",
    "\\begin{bmatrix}\n",
    "0 & P_1 - P_2 & P_1 - P_3 \\\\\n",
    "P_2 - P_1 & 0 & P_2 - P_3 \\\\\n",
    "P_3 - P_1 & P_3 - P_2 & 0\n",
    "\\end{bmatrix}\n",
    "\\quad \\text{and} \\quad\n",
    "C = diag([\\sigma_i])\n",
    "$$\n",
    "Finally, the local mass matrix for the RT0 is then given by\n",
    "$$\n",
    "A_T = \\frac{1}{|T|} (NC)^\\top HB K^{-1} N C\n",
    "$$"
   ]
  },
  {
   "cell_type": "code",
   "execution_count": null,
   "id": "3de265ec",
   "metadata": {},
   "outputs": [],
   "source": []
  }
 ],
 "metadata": {
  "kernelspec": {
   "display_name": "Python 3 (ipykernel)",
   "language": "python",
   "name": "python3"
  },
  "language_info": {
   "codemirror_mode": {
    "name": "ipython",
    "version": 3
   },
   "file_extension": ".py",
   "mimetype": "text/x-python",
   "name": "python",
   "nbconvert_exporter": "python",
   "pygments_lexer": "ipython3",
   "version": "3.10.2"
  },
  "vscode": {
   "interpreter": {
    "hash": "e4cc1db98167c7fd7d55a1da8057731abc6cd6fe154328a2ae319df8aab4e24d"
   }
  }
 },
 "nbformat": 4,
 "nbformat_minor": 5
}
