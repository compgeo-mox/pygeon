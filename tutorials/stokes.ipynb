{
 "cells": [
  {
   "cell_type": "markdown",
   "id": "secure-strength",
   "metadata": {},
   "source": [
    "# Stokes equation\n",
    "\n",
    "In this tutorial we present how to solve a three-fields Stokes equation with [PyGeoN](https://github.com/compgeo-mox/pygeon). The unkwons are the vorticity $r$, the velocity $q$ and the pressure $p$.\n",
    "\n",
    "Let $\\Omega=(0,1)^2$ with boundary $\\partial \\Omega$ and outward unit normal ${\\nu}$. Given \n",
    "$\\mu$ the viscosity, we want to solve the following problem: find $(r, q, p)$ such that\n",
    "$$\n",
    "\\left\\{\n",
    "\\begin{array}{ll}\n",
    "\\begin{array}{l} \n",
    "\\mu^{-1} r - \\nabla \\times q = 0 \\\\\n",
    "\\nabla \\times r + \\nabla p = {0} \\\\\n",
    "\\nabla \\cdot {q} = 0\n",
    "\\end{array}\n",
    "&\\text{in } \\Omega\n",
    "\\end{array}\n",
    "\\right.\n",
    "$$\n",
    "with boundary conditions:\n",
    "$$ \\left\\{\n",
    "\\begin{array}{ll}\n",
    "\\begin{array}{l} \n",
    "\\nu \\times r = 1 \\\\\n",
    "\\nu \\cdot q = {0}\n",
    "\\end{array}\n",
    "& \\text{on } \\partial_{top} \\Omega\n",
    "\\\\\n",
    "\\begin{array}{l} \n",
    "p = 0 \\\\\n",
    "\\nu \\times q = {0}\n",
    "\\end{array}\n",
    "& \\text{on } \\partial \\Omega \\setminus \\partial_{top} \\Omega\n",
    "\\end{array}\n",
    "\\right.\n",
    "$$\n",
    "Since the pressure is defined up to a constant, we fix its value in a cell. Other choices can be made.<br>\n",
    "\n",
    "We present *step-by-step* how to create the grid, declare the problem data, and finally solve the problem."
   ]
  },
  {
   "cell_type": "markdown",
   "id": "celtic-night",
   "metadata": {},
   "source": [
    "First we import some of the standard modules, like `numpy` and `scipy.sparse`. Since PyGeoN is based on [PorePy](https://github.com/pmgbergen/porepy) we import both modules."
   ]
  },
  {
   "cell_type": "code",
   "execution_count": 1,
   "id": "stunning-pollution",
   "metadata": {},
   "outputs": [],
   "source": [
    "import numpy as np\n",
    "import scipy.sparse as sps\n",
    "\n",
    "import porepy as pp\n",
    "import pygeon as pg"
   ]
  },
  {
   "cell_type": "markdown",
   "id": "little-action",
   "metadata": {},
   "source": [
    "We create now the grid, since we will use linear Lagrange elements for $r$ and Raviart-Thomas for ${q}$ we are restricted to triangles. In this example we consider a bi-dimensional grid, but the presented code will work also in 3d where $r$ is approximated with Nédélec elements. Since for $r$ we need ridges, we need to convert the PorePy grid to a PyGeoN grid and then do the `compute_geometry` to compute the informations for the ridges."
   ]
  },
  {
   "cell_type": "code",
   "execution_count": 2,
   "id": "average-cause",
   "metadata": {},
   "outputs": [
    {
     "name": "stdout",
     "output_type": "stream",
     "text": [
      "\n"
     ]
    }
   ],
   "source": [
    "# make the mixed-dimensional grid by using pp functionalities\n",
    "domain = pp.Domain({\"xmin\": 0, \"xmax\": 1, \"ymin\": 0, \"ymax\": 1})\n",
    "network = pp.create_fracture_network(domain=domain)\n",
    "\n",
    "mesh_size = 1/20\n",
    "mesh_kwargs = {\"mesh_size_frac\": mesh_size, \"mesh_size_min\": mesh_size}\n",
    "\n",
    "mdg = network.mesh(mesh_kwargs)\n",
    "# convert the mixed-dimensional grid into a pg mixed-dimensional grid\n",
    "pg.convert_from_pp(mdg)\n",
    "mdg.compute_geometry()"
   ]
  },
  {
   "cell_type": "markdown",
   "id": "million-horse",
   "metadata": {},
   "source": [
    "With the following code we set the data, in particular the viscosity and the boundary conditions. Since we need to identify each side of $\\partial \\Omega$ for $r$ and $q$ we need few steps."
   ]
  },
  {
   "cell_type": "code",
   "execution_count": 3,
   "id": "painted-contractor",
   "metadata": {},
   "outputs": [],
   "source": [
    "# set the data\n",
    "keyword = \"flow\"\n",
    "bc_val, bc_ess, source = [], [], []\n",
    "for sd, data in mdg.subdomains(return_data=True):\n",
    "\n",
    "    # with the following steps we identify the portions of the boundary\n",
    "    # to impose the boundary conditions\n",
    "    b_faces = sd.tags[\"domain_boundary_faces\"]\n",
    "    ridge_c = sd.nodes\n",
    "\n",
    "    ess_faces = b_faces\n",
    "\n",
    "    ess_ridges = np.zeros(sd.num_ridges, dtype=bool)\n",
    "    top_ridges = np.logical_and.reduce((ridge_c[1, :] == 1, ridge_c[0, :] != 0, ridge_c[0, :] != 1))\n",
    "\n",
    "    ess_cells = np.zeros(sd.num_cells, dtype=bool)\n",
    "    ess_cells[0] = True\n",
    "\n",
    "    bc_faces = np.zeros(sd.num_faces)\n",
    "    bc_ridges = np.zeros(sd.num_ridges)\n",
    "    bc_ridges[top_ridges] = 1\n",
    "\n",
    "    bc_val.append(np.hstack((bc_ridges, bc_faces, np.zeros(sd.num_cells))))\n",
    "    bc_ess.append(np.hstack((ess_ridges, ess_faces, ess_cells)))\n",
    "\n",
    "    source.append(np.zeros(sd.num_faces))\n",
    "\n",
    "    parameters = {\n",
    "        \"second_order_tensor\": pp.SecondOrderTensor(np.ones(sd.num_cells)),\n",
    "    }\n",
    "    data[pp.PARAMETERS] = {keyword: parameters}\n",
    "    data[pp.DISCRETIZATION_MATRICES] = {keyword: {}}\n",
    "\n",
    "source = np.hstack(source)\n",
    "bc_val = np.hstack(bc_val)\n",
    "bc_ess = np.hstack(bc_ess)"
   ]
  },
  {
   "cell_type": "markdown",
   "id": "thousand-christmas",
   "metadata": {},
   "source": [
    "Once the data are assigned to the mixed-dimensional grid, we construct the matrices. In particular, the linear system associated with the equation is given as\n",
    "$$\n",
    "\\left(\n",
    "\\begin{array}{cc} \n",
    "M & -B^\\top_r & \\\\\n",
    "B_r & & -B^\\top_q\\\\\n",
    "& B_q &\n",
    "\\end{array}\n",
    "\\right)\n",
    "\\left(\n",
    "\\begin{array}{c} \n",
    "r\\\\\n",
    "q\\\\ \n",
    "p\n",
    "\\end{array}\n",
    "\\right)\n",
    "=\\left(\n",
    "\\begin{array}{c} \n",
    "q_{\\partial}\\\\\n",
    "p_{\\partial}\\\\ \n",
    "0\n",
    "\\end{array}\n",
    "\\right)\n",
    "$$<br>\n",
    "where $q_{\\partial}$ and $p_{\\partial}$ is the vector associated to the flux and pressure boundary contions on the natural boundary of $\\partial \\Omega$. To construct the saddle-point problem, we rely on the `scipy.sparse` function `bmat`. Once the matrix is created, we also construct the right-hand side containing the boundary conditions."
   ]
  },
  {
   "cell_type": "code",
   "execution_count": 4,
   "id": "authorized-screw",
   "metadata": {},
   "outputs": [],
   "source": [
    "# construct the local matrices\n",
    "mass = pg.ridge_mass(mdg)\n",
    "face_mass = pg.face_mass(mdg)\n",
    "curl = face_mass * pg.curl(mdg)\n",
    "div = pg.cell_mass(mdg) * pg.div(mdg)\n",
    "\n",
    "# assemble the saddle point problem\n",
    "spp = sps.bmat([[mass, -curl.T,   None], \n",
    "                [curl,    None, -div.T], \n",
    "                [None,     div,   None]], format=\"csc\")\n",
    "\n",
    "# get the degrees of freedom for each variable\n",
    "_, dof_r = curl.shape\n",
    "dof_p, dof_q = div.shape\n",
    "\n",
    "# assemble the right-hand side\n",
    "rhs = bc_val\n",
    "rhs[dof_r:dof_r+dof_q] += face_mass * source"
   ]
  },
  {
   "cell_type": "markdown",
   "id": "sacred-occurrence",
   "metadata": {},
   "source": [
    "We solve the linear system and extract the three solutions $r$, $q$ and $p$."
   ]
  },
  {
   "cell_type": "code",
   "execution_count": 5,
   "id": "injured-estimate",
   "metadata": {},
   "outputs": [],
   "source": [
    "# solve the problem\n",
    "ls = pg.LinearSystem(spp, rhs)\n",
    "ls.flag_ess_bc(bc_ess, np.zeros(bc_ess.size))\n",
    "x = ls.solve()\n",
    "\n",
    "# extract the variables\n",
    "r = x[:dof_r]\n",
    "q = x[dof_r:dof_r+dof_q]\n",
    "p = x[-dof_p:]"
   ]
  },
  {
   "cell_type": "markdown",
   "id": "soviet-neighbor",
   "metadata": {},
   "source": [
    "Since the computed $r$ and $q$ are one value per ridge and facet, respectively, of the grid, for visualization purposes we project the vorticity and velocity in each cell. We finally export the solution to be visualized by [ParaView](https://www.paraview.org/)."
   ]
  },
  {
   "cell_type": "code",
   "execution_count": 6,
   "id": "joined-cylinder",
   "metadata": {},
   "outputs": [],
   "source": [
    "# post process vorticity\n",
    "proj_r = pg.eval_at_cell_centers(mdg, pg.Lagrange1(keyword))\n",
    "cell_r = proj_r @ r\n",
    "\n",
    "# post process velocity\n",
    "proj_q = pg.eval_at_cell_centers(mdg, pg.RT0(keyword))\n",
    "cell_q = (proj_q @ q).reshape((3, -1), order=\"F\")\n",
    "\n",
    "# post process pressure\n",
    "proj_p = pg.eval_at_cell_centers(mdg, pg.PwConstants(keyword))\n",
    "cell_p = proj_p @ p\n",
    "\n",
    "\n",
    "# save the solutions to be exported in the data dictionary of the mdg\n",
    "for _, data in mdg.subdomains(return_data=True):\n",
    "    pp.set_solution_values(\"cell_r\", cell_r, data, 0)\n",
    "    pp.set_solution_values(\"cell_q\", cell_q, data, 0)\n",
    "    pp.set_solution_values(\"cell_p\", cell_p, data, 0)\n",
    "\n",
    "# export the solutions\n",
    "save = pp.Exporter(mdg, \"sol\")\n",
    "save.write_vtu([\"cell_r\", \"cell_q\", \"cell_p\"])"
   ]
  },
  {
   "cell_type": "markdown",
   "id": "enabling-significance",
   "metadata": {},
   "source": [
    "A representation of the computed solution is given below, where the cells are colored with $r$ and the arrows are the $q$. <br>\n",
    "![](fig/stokes.png)"
   ]
  }
 ],
 "metadata": {
  "kernelspec": {
   "display_name": "Python 3 (ipykernel)",
   "language": "python",
   "name": "python3"
  },
  "language_info": {
   "codemirror_mode": {
    "name": "ipython",
    "version": 3
   },
   "file_extension": ".py",
   "mimetype": "text/x-python",
   "name": "python",
   "nbconvert_exporter": "python",
   "pygments_lexer": "ipython3",
   "version": "3.10.2"
  }
 },
 "nbformat": 4,
 "nbformat_minor": 5
}
