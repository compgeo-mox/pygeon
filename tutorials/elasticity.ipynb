{
 "cells": [
  {
   "attachments": {},
   "cell_type": "markdown",
   "id": "essential-american",
   "metadata": {},
   "source": [
    "# Elasticity equation\n",
    "\n",
    "In this tutorial we present how to solve the elasticity equation with [PyGeoN](https://github.com/compgeo-mox/pygeon).  The unknown is the displacement $u$.\n",
    "\n",
    "Let $\\Omega=(0,1)^2$ with boundary $\\partial \\Omega$ and outward unit normal ${\\nu}$. Given \n",
    "$\\lambda$ Lamé constant and $\\mu$ the Kirchhoff modulus, we want to solve the following problem: find $u$ such that\n",
    "$$\n",
    "\\nabla \\cdot [ 2 \\mu \\epsilon(u) + \\lambda \\nabla \\cdot u] = -b\n",
    "$$\n",
    "with $\\epsilon$ the symmetric gradient and $b$ a body force, which is set to $0$ in this example.\n",
    "For this test case we set the following boundary conditions related to the so-called footstep problem:\n",
    "$$ u = 0 \\text{ on } \\partial_{bottom} \\Omega \\qquad \\nu \\cdot \\sigma = [0, 0]^\\top \\text{ on } \\partial_{left} \\Omega \\cup \\partial_{right} \\Omega \\qquad \\nu \\cdot \\sigma = [0, -1]^\\top \\text{ on } \\partial_{top} \\Omega$$\n",
    "where $\\sigma = 2 \\mu \\epsilon(u) + \\lambda \\nabla \\cdot u I$ is the stess tensor.\n",
    "\n",
    "We present *step-by-step* how to create the grid, declare the problem data, and finally solve the problem."
   ]
  },
  {
   "cell_type": "markdown",
   "id": "planned-danger",
   "metadata": {},
   "source": [
    "First we import some of the standard modules, like `numpy` and `scipy.sparse`. Since PyGeoN is based on [PorePy](https://github.com/pmgbergen/porepy) we import both modules."
   ]
  },
  {
   "cell_type": "code",
   "execution_count": 1,
   "id": "dietary-perth",
   "metadata": {},
   "outputs": [],
   "source": [
    "import numpy as np\n",
    "\n",
    "import porepy as pp\n",
    "import pygeon as pg"
   ]
  },
  {
   "cell_type": "markdown",
   "id": "roman-glossary",
   "metadata": {},
   "source": [
    "We create now the grid, since we use a vector Lagrangian of order 1 for ${u}$ we are restricted to simplices. In this example we consider a 2-dimensional structured grid, but the presented code will work also in 3d."
   ]
  },
  {
   "cell_type": "code",
   "execution_count": 2,
   "id": "spectacular-saturn",
   "metadata": {},
   "outputs": [
    {
     "name": "stdout",
     "output_type": "stream",
     "text": [
      "\n"
     ]
    }
   ],
   "source": [
    "mesh_size = 0.05\n",
    "dim = 2\n",
    "\n",
    "sd = pg.unit_grid(dim, mesh_size, as_mdg=False)\n",
    "sd.compute_geometry()"
   ]
  },
  {
   "cell_type": "markdown",
   "id": "precious-belle",
   "metadata": {},
   "source": [
    "With the following code we set the data, in particular the Lamé and the Kirchhoff modulus, and the boundary conditions. Since we need to identify each side of $\\partial \\Omega$ we need few steps."
   ]
  },
  {
   "cell_type": "code",
   "execution_count": 3,
   "id": "spare-person",
   "metadata": {},
   "outputs": [],
   "source": [
    "key = \"elasticity\"\n",
    "data = {pp.PARAMETERS: {key: {\"lambda\": 1, \"mu\": 0.5}}}\n",
    "\n",
    "bottom = np.hstack([np.isclose(sd.nodes[1, :], 0)] * 2)\n",
    "top = np.isclose(sd.face_centers[1, :], 1)\n",
    "\n",
    "fun = lambda _: np.array([0, -1])"
   ]
  },
  {
   "attachments": {},
   "cell_type": "markdown",
   "id": "secure-flesh",
   "metadata": {},
   "source": [
    "Once the data are assigned to the grid, we construct the matrices. Once the latter is created, we also construct the right-hand side containing the boundary conditions."
   ]
  },
  {
   "cell_type": "code",
   "execution_count": 4,
   "id": "romance-findings",
   "metadata": {},
   "outputs": [],
   "source": [
    "vec_p1 = pg.VecLagrange1(key)\n",
    "\n",
    "A = vec_p1.assemble_stiff_matrix(sd, data)\n",
    "b = vec_p1.assemble_nat_bc(sd, fun, top)"
   ]
  },
  {
   "cell_type": "markdown",
   "id": "mobile-nirvana",
   "metadata": {},
   "source": [
    "We need to solve the linear system, PyGeoN provides a framework for that. The actual imposition of essential boundary conditions (displacement boundary conditions) might change the symmetry of the global system, the class `pg.LinearSystem` preserves this structure by internally eliminating these degrees of freedom."
   ]
  },
  {
   "cell_type": "code",
   "execution_count": 5,
   "id": "subtle-wonder",
   "metadata": {},
   "outputs": [],
   "source": [
    "ls = pg.LinearSystem(A, b)\n",
    "ls.flag_ess_bc(bottom, np.zeros(vec_p1.ndof(sd)))\n",
    "u = ls.solve()"
   ]
  },
  {
   "cell_type": "markdown",
   "metadata": {},
   "source": [
    "Compute now the stress tensor, one `sd.dim` x `sd.dim` tensor per cell."
   ]
  },
  {
   "cell_type": "code",
   "execution_count": 6,
   "metadata": {},
   "outputs": [],
   "source": [
    "cell_sigma = vec_p1.compute_stress(sd, u, data)\n",
    "# split the tensor in each component\n",
    "cell_sigma_xx = cell_sigma[:, 0, 0]\n",
    "cell_sigma_xy = cell_sigma[:, 0, 1]\n",
    "cell_sigma_yy = cell_sigma[:, 1, 1]"
   ]
  },
  {
   "cell_type": "markdown",
   "id": "pacific-alpha",
   "metadata": {},
   "source": [
    "Since the computed $u$ is a vector per peak of the grid, for visualization purposes we project the displacement in each cell center as vector. We finally export the solution to be visualized by [ParaView](https://www.paraview.org/)."
   ]
  },
  {
   "cell_type": "code",
   "execution_count": 7,
   "id": "satisfactory-jerusalem",
   "metadata": {},
   "outputs": [],
   "source": [
    "proj = vec_p1.eval_at_cell_centers(sd)\n",
    "cell_u = proj @ u\n",
    "# we need to add the z component for the exporting\n",
    "cell_u = np.hstack((cell_u, np.zeros(sd.num_cells)))\n",
    "cell_u = cell_u.reshape((3, -1))\n",
    "\n",
    "save = pp.Exporter(sd, \"sol\")\n",
    "save.write_vtu(\n",
    "    [\n",
    "        (\"cell_u\", cell_u),\n",
    "        (\"cell_sigma_xx\", cell_sigma_xx),\n",
    "        (\"cell_sigma_xy\", cell_sigma_xy),\n",
    "        (\"cell_sigma_yy\", cell_sigma_yy),\n",
    "    ]\n",
    ")"
   ]
  },
  {
   "cell_type": "markdown",
   "id": "developing-mobile",
   "metadata": {},
   "source": [
    "A representation of the computed solution is given below, where the mesh as been deformed. <br>\n",
    "![](fig/elasticity.png)"
   ]
  }
 ],
 "metadata": {
  "kernelspec": {
   "display_name": "Python 3 (ipykernel)",
   "language": "python",
   "name": "python3"
  },
  "language_info": {
   "codemirror_mode": {
    "name": "ipython",
    "version": 3
   },
   "file_extension": ".py",
   "mimetype": "text/x-python",
   "name": "python",
   "nbconvert_exporter": "python",
   "pygments_lexer": "ipython3",
   "version": "3.10.12"
  },
  "vscode": {
   "interpreter": {
    "hash": "e4cc1db98167c7fd7d55a1da8057731abc6cd6fe154328a2ae319df8aab4e24d"
   }
  }
 },
 "nbformat": 4,
 "nbformat_minor": 5
}
