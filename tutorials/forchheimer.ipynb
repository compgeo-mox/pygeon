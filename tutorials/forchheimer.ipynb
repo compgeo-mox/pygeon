{
 "cells": [
  {
   "cell_type": "markdown",
   "id": "essential-american",
   "metadata": {},
   "source": [
    "# Forchheimer equation\n",
    "\n",
    "In this tutorial we present how to solve a Forchheimer equation with [PyGeoN](https://github.com/compgeo-mox/pygeon).  The unkwons are the velocity $q$ and the pressure $p$.\n",
    "\n",
    "Let $\\Omega=(0,1)^2$ with boundary $\\partial \\Omega$ and outward unit normal ${\\nu}$. Given \n",
    "$k$ the matrix permeability, we want to solve the following problem: find $({q}, p)$ such that\n",
    "$$\n",
    "\\left\\{\n",
    "\\begin{array}{ll}\n",
    "\\begin{array}{l} \n",
    "(k^{-1} + \\beta\\Vert q \\Vert) {q} + \\nabla p = {0}\\\\\n",
    "\\nabla \\cdot {q} = 0\n",
    "\\end{array}\n",
    "&\\text{in } \\Omega\n",
    "\\end{array}\n",
    "\\right.\n",
    "$$\n",
    "with boundary conditions:\n",
    "$$ p = 0 \\text{ on } \\partial_{top} \\Omega \\qquad p = 1 \\text{ on } \\partial_{bottom} \\Omega \\qquad \\nu \\cdot q = 0 \\text{ on } \\partial_{left} \\Omega \\cup \\partial_{right} \\Omega$$\n",
    "\n",
    "We present *step-by-step* how to create the grid, declare the problem data, and finally solve the problem."
   ]
  },
  {
   "cell_type": "markdown",
   "id": "planned-danger",
   "metadata": {},
   "source": [
    "First we import some of the standard modules, like `numpy` and `scipy.sparse`. Since PyGeoN is based on [PorePy](https://github.com/pmgbergen/porepy) we import both modules."
   ]
  },
  {
   "cell_type": "code",
   "execution_count": 2,
   "id": "dietary-perth",
   "metadata": {},
   "outputs": [],
   "source": [
    "import numpy as np\n",
    "import scipy.sparse as sps\n",
    "\n",
    "import porepy as pp\n",
    "import pygeon as pg"
   ]
  },
  {
   "cell_type": "markdown",
   "id": "roman-glossary",
   "metadata": {},
   "source": [
    "We create now the grid, since we will use a Raviart-Thomas approximation for ${q}$ we are restricted to simplices. In this example we consider a bi-dimensional structured grid, but the presented code will work also in 1d and 3d. PyGeoN works with mixed-dimensional grids, so we need to convert the grid."
   ]
  },
  {
   "cell_type": "code",
   "execution_count": 3,
   "id": "spectacular-saturn",
   "metadata": {},
   "outputs": [],
   "source": [
    "N = 20\n",
    "sd = pp.CartGrid([N] * 2, [1] * 2)\n",
    "# convert the grid into a mixed-dimensional grid\n",
    "mdg = pp.meshing.subdomains_to_mdg([sd])"
   ]
  },
  {
   "cell_type": "markdown",
   "id": "precious-belle",
   "metadata": {},
   "source": [
    "With the following code we set the data, in particular the permeability tensor and the boundary conditions. Since we need to identify each side of $\\partial \\Omega$ we need few steps."
   ]
  },
  {
   "cell_type": "code",
   "execution_count": 4,
   "id": "spare-person",
   "metadata": {},
   "outputs": [],
   "source": [
    "keyword = \"flow\"\n",
    "bc_val, bc_ess, bc_val_ess, source = [], [], [], []\n",
    "for sd, data in mdg.subdomains(return_data=True):\n",
    "    # permeability tensor\n",
    "    perm = pp.SecondOrderTensor(np.ones(sd.num_cells))\n",
    "    \n",
    "    # with the following steps we identify the portions of the boundary\n",
    "    # to impose the boundary conditions\n",
    "    b_faces = sd.tags[\"domain_boundary_faces\"].nonzero()[0]\n",
    "\n",
    "    b_face_centers = sd.face_centers[:, b_faces]\n",
    "    out_flow = b_face_centers[1, :] == 1 # TOP\n",
    "    in_flow = b_face_centers[1, :] == 0 # BOTTOM\n",
    "    no_flow = np.logical_or.reduce((b_face_centers[0, :] == 1, b_face_centers[0, :] == 0))\n",
    "\n",
    "    faces, _, sign = sps.find(sd.cell_faces)\n",
    "    sign = sign[np.unique(faces, return_index=True)[1]]\n",
    "        \n",
    "    bc_val.append(np.hstack((np.zeros(sd.num_faces), np.zeros(sd.num_cells))))\n",
    "    bc_val[-1][b_faces[in_flow]] = -sign[b_faces[in_flow]] * np.ones(b_faces[in_flow].size) # pressure boundary\n",
    "\n",
    "    bc_ess.append(np.hstack((np.zeros(sd.num_faces), np.zeros(sd.num_cells))))\n",
    "    bc_ess[-1][b_faces[no_flow]] = True   \n",
    "    #bc_ess[-1][b_faces[out_flow]] = True\n",
    "\n",
    "    bc_val_ess.append(np.hstack((np.zeros(sd.num_faces), np.zeros(sd.num_cells))))\n",
    "    #bc_val_ess[-1][b_faces[out_flow]] = sd.face_areas[b_faces[out_flow]] # flux boundary\n",
    "    \n",
    "    source.append(np.zeros(sd.num_cells))\n",
    "\n",
    "    parameters = {\n",
    "        \"second_order_tensor\": perm,\n",
    "    }\n",
    "    data[pp.PARAMETERS] = {keyword: parameters}\n",
    "    data[pp.DISCRETIZATION_MATRICES] = {keyword: {}}\n",
    "    \n",
    "source = np.hstack(source)\n",
    "bc_val = np.hstack(bc_val)\n",
    "bc_ess = np.hstack(bc_ess).astype(bool)"
   ]
  },
  {
   "cell_type": "markdown",
   "id": "secure-flesh",
   "metadata": {},
   "source": [
    "Once the data are assigned to the mixed-dimensional grid, we construct the matrices. In particular, the linear system associated with the equation is given as\n",
    "$$\n",
    "\\left(\n",
    "\\begin{array}{cc} \n",
    "M(q^n) & -B^\\top\\\\\n",
    "B & 0\n",
    "\\end{array}\n",
    "\\right)\n",
    "\\left(\n",
    "\\begin{array}{c} \n",
    "q^{n+1}\\\\ \n",
    "p^{n+1}\n",
    "\\end{array}\n",
    "\\right)\n",
    "=\\left(\n",
    "\\begin{array}{c} \n",
    "p_{\\partial}\\\\ \n",
    "0\n",
    "\\end{array}\n",
    "\\right)\n",
    "$$<br>\n",
    "where $p_{\\partial}$ is the vector associated to the pressure boundary contions. To construct the saddle-point problem, we rely on the `scipy.sparse` function `bmat`. Once the matrix is created, we also construct the right-hand side containing the boundary conditions."
   ]
  },
  {
   "cell_type": "code",
   "execution_count": 28,
   "id": "romance-findings",
   "metadata": {},
   "outputs": [
    {
     "name": "stdout",
     "output_type": "stream",
     "text": [
      "1 step 1.0246950765959597\n",
      "2 step 0.9090909090909094\n",
      "3 step 4.761904761904758\n",
      "4 step 0.6939625260235947\n",
      "5 step 1.3964530093562353\n",
      "6 step 0.46236146494606584\n",
      "7 step 0.5794410827204303\n",
      "8 step 0.2807906536921545\n",
      "9 step 0.2737415790965305\n",
      "10 step 0.1610280867570529\n",
      "11 step 0.13720954340022856\n",
      "12 step 0.08932590221640553\n",
      "13 step 0.07081503246921884\n",
      "14 step 0.04863870130331691\n",
      "15 step 0.037099970418509626\n",
      "16 step 0.026216402235876964\n",
      "17 step 0.019589281325624843\n",
      "18 step 0.014053347544831587\n",
      "19 step 0.010386128861393987\n",
      "20 step 0.0075111542007385386\n",
      "21 step 0.00551870498567554\n",
      "22 step 0.004008197177111279\n",
      "23 step 0.0029357850757763338\n",
      "24 step 0.0021371060635250296\n",
      "25 step 0.0015627128014255103\n",
      "26 step 0.0011389593152319626\n",
      "27 step 0.0008321021169970741\n",
      "28 step 0.000606857163115612\n",
      "29 step 0.0004431492104888914\n",
      "30 step 0.0003233027593123619\n",
      "31 step 0.00023602812196322896\n",
      "32 step 0.0001722276417894533\n",
      "33 step 0.00012571845883125308\n",
      "34 step 9.174461695238224e-05\n"
     ]
    }
   ],
   "source": [
    "cell_mass = pg.cell_mass(mdg)\n",
    "div = pg.div(mdg)\n",
    "face_proj = pg.proj_faces_to_cells(mdg, discr=pp.MVEM(keyword))\n",
    "\n",
    "# get the degrees of freedom for each variable\n",
    "cell_dof, face_dof = div.shape\n",
    "dofs = np.cumsum([face_dof])\n",
    "\n",
    "# assemble the right-hand side\n",
    "rhs = bc_val # pressure boundary\n",
    "rhs[dofs[0]:] += cell_mass * source\n",
    "    \n",
    "perm0 = 1\n",
    "beta0 = 10\n",
    "gravity = 9.81\n",
    "\n",
    "q_old = np.zeros(face_dof)\n",
    "tol = 1e-4\n",
    "err_rel = tol + 1\n",
    "it_num = 0\n",
    "while err_rel > tol:\n",
    "    \n",
    "    cell_q_old = (face_proj * q_old).reshape((3, -1), order=\"F\")  \n",
    "    for sd, data in mdg.subdomains(return_data=True):\n",
    "        \n",
    "        norm_q_old =  np.linalg.norm(cell_q_old, axis=0)\n",
    "        ## Compute F_0 for each cell, and check if F_0 > 0.1\n",
    "        #F_0 = beta0 * perm0 * norm_q_old / gravity\n",
    "        #E = F_0 / (1+F_0)\n",
    "                \n",
    "        #beta = np.zeros(sd.num_cells)\n",
    "        #beta[sd.cell_centers[1, :] > 0.5] = 1\n",
    "        #beta[E > 0.11] = beta0\n",
    "        \n",
    "        effective_perm = 1/(1/perm0 + beta0 * norm_q_old)\n",
    "        data[pp.PARAMETERS][keyword][\"second_order_tensor\"] = pp.SecondOrderTensor(effective_perm)\n",
    "\n",
    "    # construct the local matrices\n",
    "    face_mass = pg.face_mass(mdg, discr=pp.MVEM(keyword))\n",
    "\n",
    "    # assemble the saddle point problem\n",
    "    spp = sps.bmat([[face_mass, -div.T], \n",
    "                    [      div,   None]], format=\"csc\")\n",
    "\n",
    "    # solve the problem\n",
    "    ls = pg.LinearSystem(spp, rhs)\n",
    "    ls.flag_ess_bc(np.hstack(bc_ess), np.hstack(bc_val_ess)) # the bc_val_ess are flux-boundary\n",
    "    x = ls.solve()\n",
    "\n",
    "    # extract the variables\n",
    "    q, p = np.split(x, dofs)\n",
    "    \n",
    "    err_abs = np.linalg.norm(q-q_old)\n",
    "    norm_q_old = np.linalg.norm(q_old)\n",
    "    err_rel = err_abs / norm_q_old if norm_q_old else err_abs\n",
    "    \n",
    "    q_old = q\n",
    "    it_num += 1\n",
    "    print(it_num, \"step\", err_rel)"
   ]
  },
  {
   "cell_type": "markdown",
   "id": "pacific-alpha",
   "metadata": {},
   "source": [
    "Since the computed $q$ is one value per facet of the grid, for visualization purposes we project the flux in each cell center as vector. We finally export the solution to be visualized by [ParaView](https://www.paraview.org/)."
   ]
  },
  {
   "cell_type": "code",
   "execution_count": 10,
   "id": "satisfactory-jerusalem",
   "metadata": {},
   "outputs": [],
   "source": [
    "# post process velocity\n",
    "face_proj = pg.proj_faces_to_cells(mdg, discr=pp.MVEM(keyword))\n",
    "cell_q = (face_proj * q).reshape((3, -1), order=\"F\")\n",
    "\n",
    "for _, data in mdg.subdomains(return_data=True):\n",
    "    data[pp.STATE] = {\"cell_q\": cell_q, \"p\": p}\n",
    "\n",
    "save = pp.Exporter(mdg, \"sol\")\n",
    "save.write_vtu([\"cell_q\", \"p\"])"
   ]
  },
  {
   "cell_type": "markdown",
   "id": "developing-mobile",
   "metadata": {},
   "source": [
    "A representation of the computed solution is given below, where the cells are colored with $p$ and the arrows are the $q$. <br>\n",
    "![](fig/darcy.png)"
   ]
  }
 ],
 "metadata": {
  "kernelspec": {
   "display_name": "Python 3",
   "language": "python",
   "name": "python3"
  },
  "language_info": {
   "codemirror_mode": {
    "name": "ipython",
    "version": 3
   },
   "file_extension": ".py",
   "mimetype": "text/x-python",
   "name": "python",
   "nbconvert_exporter": "python",
   "pygments_lexer": "ipython3",
   "version": "3.8.6"
  }
 },
 "nbformat": 4,
 "nbformat_minor": 5
}
