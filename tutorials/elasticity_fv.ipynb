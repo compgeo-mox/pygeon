{
 "cells": [
  {
   "attachments": {},
   "cell_type": "markdown",
   "id": "essential-american",
   "metadata": {},
   "source": [
    "# Elasticity equation\n",
    "\n",
    "In this tutorial we present how to solve the elasticity equation with [PorePy](https://github.com/pmgbergen/porepy) and then how to use [PyGeoN](https://github.com/compgeo-mox/pygeon) to post process the stresses.  The unknown is the displacement $u$.\n",
    "\n",
    "Let $\\Omega=(0,1)^2$ with boundary $\\partial \\Omega$ and outward unit normal ${\\nu}$. Given \n",
    "$\\lambda$ Lamé constant and $\\mu$ the Kirchhoff modulus, we want to solve the following problem: find $u$ such that\n",
    "$$\n",
    "\\nabla \\cdot [ 2 \\mu \\epsilon(u) + \\lambda \\nabla \\cdot u] = -b\n",
    "$$\n",
    "with $\\epsilon$ the symmetric gradient and $b$ a body force, which is set to $0$ in this example.\n",
    "For this test case we set the following boundary conditions related to the so-called footstep problem:\n",
    "$$ u = 0 \\text{ on } \\partial_{bottom} \\Omega \\qquad \\nu \\cdot \\sigma = [0, 0]^\\top \\text{ on } \\partial_{left} \\Omega \\cup \\partial_{right} \\Omega \\qquad \\nu \\cdot \\sigma = [0, -1]^\\top \\text{ on } \\partial_{top} \\Omega$$\n",
    "where $\\sigma = 2 \\mu \\epsilon(u) + \\lambda \\nabla \\cdot u I$ is the stess tensor.\n",
    "\n",
    "We present *step-by-step* how to create the grid, declare the problem data, and finally solve the problem."
   ]
  },
  {
   "cell_type": "markdown",
   "id": "planned-danger",
   "metadata": {},
   "source": [
    "First we import some of the standard modules, like `numpy` and `scipy.sparse`. Since PyGeoN is based on [PorePy](https://github.com/pmgbergen/porepy) we import both modules."
   ]
  },
  {
   "cell_type": "code",
   "execution_count": 1,
   "id": "dietary-perth",
   "metadata": {},
   "outputs": [],
   "source": [
    "import os\n",
    "import numpy as np\n",
    "import scipy.sparse as sps\n",
    "\n",
    "import porepy as pp\n",
    "import pygeon as pg"
   ]
  },
  {
   "cell_type": "markdown",
   "id": "roman-glossary",
   "metadata": {},
   "source": [
    "We create now the grid. In this example we consider a 2-dimensional structured grid, but the presented code will work also in 3d and for other types of grids."
   ]
  },
  {
   "cell_type": "code",
   "execution_count": 2,
   "id": "spectacular-saturn",
   "metadata": {},
   "outputs": [],
   "source": [
    "N = 25\n",
    "dim = 2\n",
    "\n",
    "sd = pp.CartGrid([N] * dim, [1] * dim)\n",
    "sd.compute_geometry()"
   ]
  },
  {
   "cell_type": "markdown",
   "id": "precious-belle",
   "metadata": {},
   "source": [
    "With the following code we set the data, in particular the Lamé and the Kirchhoff modulus, and the boundary conditions. Since we need to identify each side of $\\partial \\Omega$ we need few steps."
   ]
  },
  {
   "cell_type": "code",
   "execution_count": 3,
   "id": "spare-person",
   "metadata": {},
   "outputs": [],
   "source": [
    "key = \"elasticity\"\n",
    "\n",
    "# Create stiffness matrix\n",
    "lambda_ = np.ones(sd.num_cells)\n",
    "mu = np.ones(sd.num_cells) / 2\n",
    "C = pp.FourthOrderTensor(mu, lambda_)\n",
    "\n",
    "# Define boundary type\n",
    "b_faces = sd.get_all_boundary_faces()\n",
    "num_b_faces = b_faces.size\n",
    "labels = np.array([\"neu\"] * num_b_faces)\n",
    "\n",
    "bottom = np.isclose(sd.face_centers[1, b_faces], 0)\n",
    "labels[bottom] = \"dir\"\n",
    "bound = pp.BoundaryConditionVectorial(sd, b_faces, labels)\n",
    "\n",
    "bc_values = np.zeros((sd.dim, sd.num_faces))\n",
    "\n",
    "top = np.isclose(sd.face_centers[1, :], 1)\n",
    "bc_values[1, top] = -sd.face_areas[top]\n",
    "bc_values = bc_values.ravel(\"F\")\n",
    "\n",
    "# No source term\n",
    "source = np.zeros(sd.num_cells * sd.dim)\n",
    "\n",
    "# collect all data\n",
    "data = {\n",
    "    pp.PARAMETERS: {\n",
    "        key: {\n",
    "            \"fourth_order_tensor\": C,\n",
    "            \"bc_values\": bc_values,\n",
    "            \"bc\": bound,\n",
    "            \"source\": source,\n",
    "        }\n",
    "    },\n",
    "    pp.DISCRETIZATION_MATRICES: {key: {}},\n",
    "}"
   ]
  },
  {
   "attachments": {},
   "cell_type": "markdown",
   "id": "secure-flesh",
   "metadata": {},
   "source": [
    "Once the data are assigned to the grid, we construct the matrices. Once the latter is created, we also construct the right-hand side containing the boundary conditions."
   ]
  },
  {
   "cell_type": "code",
   "execution_count": 4,
   "id": "romance-findings",
   "metadata": {},
   "outputs": [],
   "source": [
    "# discretize and solve the system\n",
    "mpsa = pp.Mpsa(key)\n",
    "mpsa.discretize(sd, data)\n",
    "\n",
    "A, b = mpsa.assemble_matrix_rhs(sd, data)\n",
    "u = sps.linalg.spsolve(A, b)"
   ]
  },
  {
   "cell_type": "markdown",
   "metadata": {},
   "source": [
    "We first compute the traction for each face of the cell and reshape it so that it has the x-components for all the faces first and then all the y-components (and then all z-components in 3d case)."
   ]
  },
  {
   "cell_type": "code",
   "execution_count": 5,
   "metadata": {},
   "outputs": [],
   "source": [
    "# post process the traction for each face\n",
    "mat = data[pp.DISCRETIZATION_MATRICES][key]\n",
    "mat_stress = mat[mpsa.stress_matrix_key]\n",
    "mat_bound_stress = mat[mpsa.bound_stress_matrix_key]\n",
    "\n",
    "# The measure is in Pascals\n",
    "t = mat_stress @ u + mat_bound_stress @ bc_values\n",
    "\n",
    "# reshape the traction to be in the order of first all the x-components, then all the y-components\n",
    "t = np.reshape(t, (sd.dim, -1), order=\"F\").ravel()"
   ]
  },
  {
   "cell_type": "markdown",
   "id": "b707fae1",
   "metadata": {},
   "source": [
    " Compute now the stress tensor, one `sd.dim` x `sd.dim` tensor per cell."
   ]
  },
  {
   "cell_type": "code",
   "execution_count": 6,
   "id": "734a1dd1",
   "metadata": {},
   "outputs": [],
   "source": [
    "# vecRT0 = pg.VecRT0(key) # this is for simplices\n",
    "vecRT0 = pg.VecVRT0(key)  # for general grids using vem\n",
    "P0 = vecRT0.eval_at_cell_centers(sd)\n",
    "cell_sigma = P0 @ t\n",
    "\n",
    "# first we reshape sigma for each dimension and then split agin for each cell, so that we\n",
    "# have for the 2d case\n",
    "# [xx, xy, xz]*cells + [yx, yy, yz]*cells -> [[xx, xy, xz]*cells, [yx, yy, yz]*cells]\n",
    "# [[xx, xy, xz]*cells, [yx, yy, yz]*cells] -> [[xx, xy, xz], [yx, yy, yz]]*cells\n",
    "cell_sigma = np.array(np.hsplit(cell_sigma.reshape(sd.dim, -1), sd.num_cells))\n",
    "\n",
    "# we can remove the z component to have it sd.num_cells x sd.dim x sd.dim\n",
    "cell_sigma = cell_sigma[:, :, : sd.dim]\n",
    "\n",
    "# we can split the tensor in each component\n",
    "cell_sigma_xx = cell_sigma[:, 0, 0]\n",
    "cell_sigma_xy = cell_sigma[:, 0, 1]\n",
    "cell_sigma_yy = cell_sigma[:, 1, 1]"
   ]
  },
  {
   "cell_type": "markdown",
   "id": "pacific-alpha",
   "metadata": {},
   "source": [
    "We finally export the solution to be visualized by [ParaView](https://www.paraview.org/)."
   ]
  },
  {
   "cell_type": "code",
   "execution_count": 7,
   "id": "satisfactory-jerusalem",
   "metadata": {},
   "outputs": [],
   "source": [
    "# reshape the displacement for the export\n",
    "u = np.reshape(u, (sd.dim, -1), order=\"F\")\n",
    "u = np.vstack((u, np.zeros(sd.num_cells)))\n",
    "\n",
    "save = pp.Exporter(sd, \"sol\")\n",
    "save.write_vtu(\n",
    "    [\n",
    "        (\"u\", u),\n",
    "        (\"cell_sigma_xx\", cell_sigma_xx),\n",
    "        (\"cell_sigma_xy\", cell_sigma_xy),\n",
    "        (\"cell_sigma_yy\", cell_sigma_yy),\n",
    "    ]\n",
    ")"
   ]
  },
  {
   "cell_type": "markdown",
   "id": "developing-mobile",
   "metadata": {},
   "source": [
    "A representation of the computed solution is given below, where the mesh as been deformed. <br>\n",
    "![](fig/elasticity_fv.png)"
   ]
  }
 ],
 "metadata": {
  "kernelspec": {
   "display_name": "py3.12",
   "language": "python",
   "name": "python3"
  },
  "language_info": {
   "codemirror_mode": {
    "name": "ipython",
    "version": 3
   },
   "file_extension": ".py",
   "mimetype": "text/x-python",
   "name": "python",
   "nbconvert_exporter": "python",
   "pygments_lexer": "ipython3",
   "version": "3.12.4"
  }
 },
 "nbformat": 4,
 "nbformat_minor": 5
}
