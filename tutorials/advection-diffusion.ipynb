{
 "cells": [
  {
   "cell_type": "markdown",
   "id": "5104be19",
   "metadata": {},
   "source": [
    "# Advection-Diffusion \n",
    "\n",
    "In this tutorial we present how to solve the unsteady advection-diffusion problem [PyGeoN](https://github.com/compgeo-mox/pygeon).  The unknown is the mass $u$.\n",
    "\n",
    "Let $\\Omega=(0,1)^2$ with boundary $\\partial \\Omega$ and outward unit normal ${\\nu}$. Given \n",
    "$v$ the velocity field, $D$ being the constant diffusion coefficient and $S$ being the source term, we want to solve the following problem: find $u$ such that\n",
    "$$\n",
    "\\partial_t u - \\nabla \\cdot (D \\nabla u - a \\cdot u) = S\n",
    "$$\n",
    "\n",
    "$$\n",
    "\\partial_t u - D \\nabla^2 u + a \\cdot \\nabla u = S\n",
    "$$\n",
    "Multiply by test (weight) function and integrate over domain \n",
    "$$\n",
    "\\int_\\Omega \\partial_t u \\varphi d\\Omega - \\int_\\Omega D \\nabla^2 u \\varphi d\\Omega + \\int_\\Omega a \\cdot \\nabla u \\varphi d\\Omega = \\int_\\Omega S \\varphi d\\Omega\n",
    "$$\n",
    "We use integration by parts to reduce the order by moving gradient to the test function.\n",
    "$$\n",
    "\\int_\\Omega \\partial_t u \\varphi d\\Omega + \\int_\\Omega D \\nabla u \\cdot \\nabla \\varphi d\\Omega - \\int_\\Gamma D \\nabla u \\cdot \\nu \\varphi d\\Gamma + \\int_\\Omega a \\cdot \\nabla u \\varphi d\\Omega = \\int_\\Omega S \\varphi d\\Omega\n",
    "$$\n",
    "Discretize in time with backwards Euler\n",
    "$$\n",
    "\\int_\\Omega \\frac{u^{n+1} - u^n}{\\tau} \\varphi d\\Omega + D\\int_\\Omega \\nabla u^{n+1} \\cdot \\nabla \\varphi d\\Omega - D\\int_\\Gamma \\nabla u^{n+1} \\cdot \\nu \\varphi d\\Gamma + \\int_\\Omega a \\cdot \\nabla u^{n+1} \\varphi d\\Omega = \\int_\\Omega S^{n+1} \\varphi d\\Omega\n",
    "$$\n",
    "Move the known, boundary and source term to the rhs\n",
    "$$\n",
    "\\int_\\Omega u^{n+1} \\varphi d\\Omega + \\tau D\\int_\\Omega \\nabla u^{n+1} \\cdot \\nabla \\varphi d\\Omega + \\tau \\int_\\Omega (a \\cdot \\nabla u^{n+1}) \\varphi d\\Omega = \\tau \\int_\\Omega S^{n+1} \\varphi d\\Omega + \\int_\\Omega u^n \\varphi d\\Omega + \\tau D\\int_\\Gamma (\\nabla u^{n+1} \\cdot \\nu) \\varphi d\\Gamma\n",
    "$$\n",
    "Gives us in matrix form\n",
    "$$\n",
    "[M^{n+1} + \\tau (D + A)](u^{n+1}) = \\tau S^{n+1} + M^{n}u^n + \\tau BC^{n+1}\n",
    "$$\n",
    "\n",
    "\n",
    "with boundary conditions:\n",
    "$$ u = 0 \\text{ on } \\partial_{top} \\Omega \\qquad u = 1 \\text{ on } \\partial_{bottom} \\Omega \\qquad \\nu \\cdot u = 0 \\text{ on } \\partial_{left} \\Omega \\cup \\partial_{right} \\Omega$$\n",
    "\n",
    "We present *step-by-step* how to create the grid, declare the problem data, and finally solve the problem."
   ]
  },
  {
   "cell_type": "markdown",
   "id": "f7fc46f8",
   "metadata": {},
   "source": [
    "First we import some of the standard modules, like `numpy` and `scipy.sparse`. Since PyGeoN is based on [PorePy](https://github.com/pmgbergen/porepy) we import both modules."
   ]
  },
  {
   "cell_type": "code",
   "execution_count": 1,
   "id": "5948380c",
   "metadata": {},
   "outputs": [],
   "source": [
    "import os\n",
    "import shutil\n",
    "import numpy as np\n",
    "import scipy.sparse as sps\n",
    "\n",
    "import porepy as pp\n",
    "import pygeon as pg\n",
    "\n",
    "import inspect"
   ]
  },
  {
   "cell_type": "markdown",
   "id": "59bac077",
   "metadata": {},
   "source": [
    "We create now the grid, since we will use a Lagrangian of order 1 to approximation for ${u}$ we are restricted to simplices. In this example we consider a 2-dimensional structured grid, but the presented code will work also in 1d and 3d. PyGeoN works with mixed-dimensional grids, so we need to convert the grid."
   ]
  },
  {
   "cell_type": "code",
   "execution_count": 2,
   "id": "5e86d779",
   "metadata": {},
   "outputs": [],
   "source": [
    "grid_size = [5, 5]      # n x n grid \n",
    "dim = [1,1]    \n",
    "dt = 0.1    # time step size\n",
    "num_steps = 10      # number of time steps\n",
    "key = \"mass\"    # key for the unknown variable\n",
    "\n",
    "# Create a structured triangle grid with given size and dimension\n",
    "sd = pp.StructuredTriangleGrid(grid_size, dim)\n",
    "# Convert the grid into a mixed-dimensional grid\n",
    "mdg = pg.as_mdg(sd)\n",
    "\n",
    "# Convert to the PorePy grid object to a PyGeoN grid object\n",
    "pg.convert_from_pp(sd)\n",
    "sd.compute_geometry()"
   ]
  },
  {
   "cell_type": "code",
   "execution_count": 3,
   "id": "b086831f",
   "metadata": {},
   "outputs": [],
   "source": [
    "def first_order_tensor(grid,\n",
    "        vx: np.ndarray,\n",
    "        vy: np.ndarray = None,\n",
    "        vz: np.ndarray = None,\n",
    "    ):\n",
    "    \n",
    "        n_cells = vx.size\n",
    "        vel = np.zeros((3, n_cells))\n",
    "\n",
    "        vel[0, ::] = vx\n",
    "             \n",
    "        if vy is not None:\n",
    "            vel[1, ::] = vy\n",
    "\n",
    "        if vz is not None:\n",
    "            vel[2, ::] = vz\n",
    "\n",
    "        return vel  "
   ]
  },
  {
   "cell_type": "markdown",
   "id": "a2d4a8a2",
   "metadata": {},
   "source": [
    "With the following code we set the data, in particular the velocity field, diffusion coefficient and the boundary conditions. Since we need to identify each side of $\\partial \\Omega$ we need few steps.\n",
    "\n",
    "We define the source term function. Given below are two source functions: a point source, and a gaussian source at the center cell of the grid."
   ]
  },
  {
   "cell_type": "code",
   "execution_count": 4,
   "id": "b1b2a914",
   "metadata": {},
   "outputs": [],
   "source": [
    "def source_term_gauss(x):\n",
    "    # Example: a Gaussian source at the center of the grid\n",
    "    center = sd.cell_centers[:,sd.num_cells // 2]\n",
    "    sigma = 0.05\n",
    "    r2 = np.sum((x - center)**2)\n",
    "    return np.exp(-r2 / (2 * sigma**2))\n",
    "\n",
    "def source_term_point(x):\n",
    "    # Example: a point source at the center of the grid\n",
    "\n",
    "    # Define the center cell\n",
    "    center_cell = sd.num_cells // 2 - 1 \n",
    "    # Get the boundary nodes of the grid\n",
    "    bd_nodes = sd.get_all_boundary_nodes()\n",
    "    # A map from cell to nodes\n",
    "    node_map = sd.cell_nodes()\n",
    "    # Get the nodes of the center cell\n",
    "    center_nodes = node_map[:,center_cell].nonzero()[0]\n",
    "    # Filter out the boundary nodes from the center nodes\n",
    "    mask = ~np.isin(center_nodes, bd_nodes)\n",
    "    center_nodes = center_nodes[mask]\n",
    "    # Get the coordinates of the center nodes\n",
    "    source_nodes_coord = sd.nodes.T[center_nodes]\n",
    "\n",
    "    # Check if the input x matches any of the center nodes' coordinates\n",
    "    return 1.0 if np.any(np.all(source_nodes_coord == x, axis=1)) else 0.0"
   ]
  },
  {
   "cell_type": "markdown",
   "id": "1b6de068",
   "metadata": {},
   "source": [
    "Define the natural boundary condition function"
   ]
  },
  {
   "cell_type": "code",
   "execution_count": 5,
   "id": "86111155",
   "metadata": {},
   "outputs": [],
   "source": [
    "def u_bc(x):\n",
    "    # Example: Neumann boundary condition with inflow at the left and zero \n",
    "    # outflow elsewhere\n",
    "    return 1.0 if abs(x[0]) < 1e-10 else 0.0"
   ]
  },
  {
   "cell_type": "code",
   "execution_count": null,
   "id": "ad35d037",
   "metadata": {},
   "outputs": [],
   "source": [
    "key = \"mass\"\n",
    "\n",
    "nat_bc_val = []\n",
    "ess_bc = []\n",
    "source = []\n",
    "sol = []\n",
    "\n",
    "# Use first order Lagrange elements to approximate the solution\n",
    "P1 = pg.Lagrange1(key)\n",
    "\n",
    "# Loop through each subdomain in the mixed-dimensional grid\n",
    "# (NB: only one subdomain in this case)\n",
    "for sd, data in mdg.subdomains(return_data=True):\n",
    "    # Set the values for the diffusion tensor and velocity field parameter \n",
    "    diff = pp.SecondOrderTensor(np.ones(sd.num_cells))\n",
    "    vel_field = first_order_tensor(sd, np.ones(sd.num_cells))\n",
    "    # Store the parameters in the subdomain data\n",
    "    param = {\"first_order_tensor\": vel_field, \"second_order_tensor\": diff}\n",
    "    pp.initialize_data(sd, data, key, param)\n",
    "\n",
    "    # Identify boundary faces\n",
    "    left = sd.face_centers[0, :] == 0\n",
    "    right = sd.face_centers[0, :] == 1\n",
    "    bottom = sd.nodes[1, :] == 0\n",
    "    top = sd.nodes[1, :] == 1\n",
    "    \n",
    "    # Define natural and essential boundary faces \n",
    "    nat_bc_faces = np.logical_or(left, right)\n",
    "    ess_bc_faces = np.logical_or(bottom, top)\n",
    "    \n",
    "    # Set values for the natural boundary condition\n",
    "    nat_bc_val.append(dt * P1.assemble_nat_bc(sd, u_bc, nat_bc_faces))\n",
    "\n",
    "    # Set boolean array for nodes which are essential boundary condition\n",
    "    ess_bc.append(ess_bc_faces)\n",
    "\n",
    "    # Set the source term values \n",
    "    mass = P1.assemble_mass_matrix(sd)\n",
    "    source.append(dt * mass @ P1.interpolate(sd, source_term_point))"
   ]
  },
  {
   "cell_type": "markdown",
   "id": "3a6ef901",
   "metadata": {},
   "source": [
    "Once the data are assigned to the mixed-dimensional grid, we construct the matrices. In particular, the linear system given in above. Once the matrix is created, we also construct the right-hand side containing the boundary conditions."
   ]
  },
  {
   "cell_type": "code",
   "execution_count": null,
   "id": "963944ac",
   "metadata": {},
   "outputs": [],
   "source": [
    "# Construct the local matrices\n",
    "mass = P1.assemble_mass_matrix(sd)\n",
    "adv = P1.assemble_adv_matrix(sd, data)\n",
    "stiff = P1.assemble_stiff_matrix(sd, data)\n",
    "\n",
    "# Assemble the global matrix\n",
    "# fmt: off\n",
    "global_matrix = mass + dt*(adv + stiff)\n",
    "# fmt: on\n",
    "\n",
    "# Get the degrees of freedom for u\n",
    "dof_u = P1.ndof(sd)\n",
    "\n",
    "# Assemble the time-independent right-hand side\n",
    "rhs_const = np.zeros(dof_u)\n",
    "rhs_const[:dof_u] += np.hstack(nat_bc_val) + np.hstack(source)\n",
    "\n",
    "# Set initial conditions\n",
    "u = np.zeros(dof_u)\n",
    "\n",
    "# Add the initial condition to the time series\n",
    "sol.append(u)"
   ]
  },
  {
   "cell_type": "markdown",
   "id": "44cdcaf1",
   "metadata": {},
   "source": [
    "We need to solve the linear system, PyGeoN provides a framework for that. The actual imposition of essential boundary conditions (flux boundary conditions) might change the symmetry of the global system, the class `pg.LinearSystem` preserves this structure by internally eliminating these degrees of freedom. Once the problem is solved, we extract the solutions $u$"
   ]
  },
  {
   "cell_type": "code",
   "execution_count": null,
   "id": "3f4f8f27",
   "metadata": {},
   "outputs": [],
   "source": [
    "for n in np.arange(num_steps):\n",
    "\n",
    "    # Update the right-hand side with the current solution\n",
    "    rhs = rhs_const.copy()\n",
    "    rhs[:dof_u] += np.hstack(mass @ u)\n",
    "\n",
    "    # Set up the linear solver\n",
    "    ls = pg.LinearSystem(global_matrix, rhs)\n",
    "\n",
    "    # Flag the essential boundary conditions\n",
    "    ls.flag_ess_bc(np.hstack(ess_bc), np.zeros(dof_u))\n",
    "\n",
    "    # Solve the linear system\n",
    "    x = ls.solve()\n",
    "\n",
    "    # Extract the variables\n",
    "    u = x[:dof_u]\n",
    "    \n",
    "    # Add the solution to the time series\n",
    "    sol.append(u)"
   ]
  },
  {
   "cell_type": "markdown",
   "id": "fc9ada59",
   "metadata": {},
   "source": [
    "Since the computed $u$ is one value per node of the grid, for visualization purposes we project the mass in each cell center. We finally export the solution to be visualized by [ParaView](https://www.paraview.org/)."
   ]
  },
  {
   "cell_type": "code",
   "execution_count": null,
   "id": "70ca0571",
   "metadata": {},
   "outputs": [],
   "source": [
    "output_directory = os.path.join(os.path.dirname(__file__), \"adv-diff sol\")\n",
    "# Delete the output directory, if it exisis\n",
    "if os.path.exists(output_directory):\n",
    "    shutil.rmtree(output_directory)\n",
    "\n",
    "save = pp.Exporter(mdg, \"adv-diff\", folder_name=output_directory)\n",
    "\n",
    "proj_u = P1.eval_at_cell_centers(sd)\n",
    "\n",
    "for n, u in enumerate(sol):\n",
    "    for _, data in mdg.subdomains(return_data=True):\n",
    "        \n",
    "        # post process variables\n",
    "        cell_u = proj_u @ u\n",
    "\n",
    "        pp.set_solution_values(\"mass\", cell_u, data, time_step_index=0)\n",
    "        save.write_vtu([\"mass\"], time_step=n)\n",
    "\n",
    "save.write_pvd(range(len(sol)))"
   ]
  }
 ],
 "metadata": {
  "kernelspec": {
   "display_name": ".venv",
   "language": "python",
   "name": "python3"
  },
  "language_info": {
   "codemirror_mode": {
    "name": "ipython",
    "version": 3
   },
   "file_extension": ".py",
   "mimetype": "text/x-python",
   "name": "python",
   "nbconvert_exporter": "python",
   "pygments_lexer": "ipython3",
   "version": "3.12.3"
  }
 },
 "nbformat": 4,
 "nbformat_minor": 5
}
