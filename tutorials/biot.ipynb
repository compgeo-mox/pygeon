{
 "cells": [
  {
   "attachments": {},
   "cell_type": "markdown",
   "id": "essential-american",
   "metadata": {},
   "source": [
    "# (static) Biot equation\n",
    "\n",
    "In this tutorial we present how to solve the (static) Biot equation with [PyGeoN](https://github.com/compgeo-mox/pygeon).  The unknown is the displacement $u$, the flux $q$ and the pressure $p$.\n",
    "\n",
    "Let $\\Omega$ with boundary $\\partial \\Omega$ and outward unit normal ${\\nu}$. Given \n",
    "$\\lambda$ Lamé constant and $\\mu$ the Kirchhoff modulus, $K$ the permeability of the porous medium and $s_0$ its storativity, and $\\alpha$ the Biot-Willis coefficient fot the coupling between the two models.\n",
    "We want to solve the following problem: find $({u}, {q}, p)$ such that\n",
    "$$\n",
    "    \\begin{aligned}\n",
    "         & \\nabla \\cdot [2 \\mu {\\varepsilon}({u}) + \\lambda \\nabla \\cdot u I\n",
    "         - \\alpha p {I}] = -{b}   \\\\\n",
    "         & \\mu{q} + {K}\\nabla p = {0}                        \\\\\n",
    "         & \\partial_t (s_0 p + \\alpha \\nabla \\cdot {u}) +\n",
    "        \\nabla \\cdot {q} = \\psi\n",
    "    \\end{aligned}\n",
    "    \\quad \\text{in } \\Omega.\n",
    "$$\n",
    "with $\\varepsilon$ the symmetric gradient and $b$ a body force. The stress tensor, which can be post-processed from $u$, is given by\n",
    "$$\n",
    "    \\sigma = 2 \\mu \\varepsilon(u) + \\lambda \\nabla \\cdot u I - \\alpha p I\n",
    "$$\n",
    "\n",
    "In particular, we consider only the spatial structure of the previous problem by doing only one time step. We call the latter $\\Delta t$ and write the discrete problem as\n",
    "$$\n",
    "    \\begin{bmatrix}\n",
    "        A & 0 & -\\alpha C^\\top \\\\\n",
    "        0 & \\Delta t M_q & - \\Delta t B^\\top \\\\\n",
    "        \\alpha C & \\Delta t B & s_0 M_p\n",
    "    \\end{bmatrix}\n",
    "    \\begin{bmatrix}\n",
    "        u \\\\ q \\\\ p\n",
    "    \\end{bmatrix}\n",
    "    =\n",
    "    \\begin{bmatrix}\n",
    "        b \\\\ 0 \\\\ \\psi\n",
    "    \\end{bmatrix}\n",
    "$$\n",
    "where $A$ is the stiffness matrix associated with the elatic problem, $C$ is the coupling between the two physics, $M_q$ is the mass matrix associated to the flux variable, $B$ is the divergence matrix for the flow problem, and $M_p$ is the mass matrix associated with the pressure. All the aforementioned matrices are properly scaled by their physical parameters if not explicitly written. The second row has been multiply by $\\Delta t$ to preserve the skew-symmetry of the problem."
   ]
  },
  {
   "cell_type": "markdown",
   "metadata": {},
   "source": [
    "## Exercise 1: footing problem\n",
    "\n",
    "A footing problem is when a force is impose on the top compressing the body and the bottom is fixed. In this case we assume that the force is applied on the central portion of the top boundary.\n",
    "\n",
    "For this test case we set $\\Omega = [0, 3] \\times [0, 1]$, $b = 0$, and the following boundary conditions:\n",
    "$$ \n",
    "\\begin{aligned}\n",
    "    &u = 0 &&\\text{ and }&& \\nu \\cdot q = 0 &&\\text{ on } \\partial \\Omega  \\setminus \\partial_{top} \\Omega\n",
    "\\\\\n",
    "&\\nu \\cdot \\sigma = 0 &&\\text{ and }&& p = 0 &&\\text{ on } \\partial_{top} \\Omega \\setminus \\partial_s \\Omega\n",
    "\\\\\n",
    "&\\nu \\cdot \\sigma = [0, -1]^\\top &&\\text{ and }&& p = 0 &&\\text{ on }\\partial_s \\Omega \n",
    "\\end{aligned}\n",
    "$$\n",
    "where $\\partial_{s} \\Omega = [1, 2] \\times \\{1\\}$.\n",
    "\n",
    "We present *step-by-step* how to create the grid, declare the problem data, and finally solve the problem."
   ]
  },
  {
   "cell_type": "markdown",
   "id": "planned-danger",
   "metadata": {},
   "source": [
    "First we import some of the standard modules, like `numpy` and `scipy.sparse`. Since PyGeoN is based on [PorePy](https://github.com/pmgbergen/porepy) we import both modules."
   ]
  },
  {
   "cell_type": "code",
   "execution_count": 1,
   "id": "dietary-perth",
   "metadata": {},
   "outputs": [],
   "source": [
    "import numpy as np\n",
    "import scipy.sparse as sps\n",
    "\n",
    "import porepy as pp\n",
    "import pygeon as pg"
   ]
  },
  {
   "cell_type": "markdown",
   "id": "roman-glossary",
   "metadata": {},
   "source": [
    "We create now the grid, since we use a vector Lagrangian of order 1 for ${u}$ and Raivar-Thomas for the flux $q$, we are restricted to simplices. In this example we consider a 2-dimensional structured grid, but the presented code will work also in 3d."
   ]
  },
  {
   "cell_type": "code",
   "execution_count": 2,
   "id": "spectacular-saturn",
   "metadata": {},
   "outputs": [
    {
     "name": "stdout",
     "output_type": "stream",
     "text": [
      "\n"
     ]
    }
   ],
   "source": [
    "mesh_size = 0.05\n",
    "delta_t = 0.1\n",
    "dim = 2\n",
    "\n",
    "pts = np.array([[0, 3, 3, 2, 1, 0], [0, 0, 1, 1, 1, 1]])\n",
    "sd = pg.grid_from_boundary_pts(pts, mesh_size, as_mdg=False)\n",
    "sd.compute_geometry()"
   ]
  },
  {
   "cell_type": "markdown",
   "id": "precious-belle",
   "metadata": {},
   "source": [
    "With the following code we set the data and the boundary conditions. Since we need to identify each side of $\\partial \\Omega$ we need few steps."
   ]
  },
  {
   "cell_type": "code",
   "execution_count": 3,
   "id": "spare-person",
   "metadata": {},
   "outputs": [],
   "source": [
    "key = \"biot\"\n",
    "\n",
    "# the physical parameters of the problem, assumed constant\n",
    "alpha = 1\n",
    "s0 = 1\n",
    "\n",
    "data = {}\n",
    "param = {\"second_order_tensor\": pp.SecondOrderTensor(np.ones(sd.num_cells))}\n",
    "pp.initialize_data(sd, data, key, param)\n",
    "data[pp.PARAMETERS][key].update({\"lambda\": 1, \"mu\": 0.5})\n",
    "\n",
    "# selection of the boundary conditions\n",
    "bd_q = sd.tags[\"domain_boundary_faces\"]\n",
    "bd_q[np.isclose(sd.face_centers[1, :], 1)] = False\n",
    "\n",
    "bd_u = sd.tags[\"domain_boundary_nodes\"]\n",
    "bd_u[np.isclose(sd.nodes[1, :], 1)] = False\n",
    "bd_u = np.hstack([bd_u] * dim)\n",
    "\n",
    "top_s = np.logical_and.reduce(\n",
    "    (\n",
    "        np.isclose(sd.face_centers[1, :], 1),\n",
    "        sd.face_centers[0, :] > 1,\n",
    "        sd.face_centers[0, :] < 2,\n",
    "    )\n",
    ")\n",
    "\n",
    "fun = lambda _: np.array([0, -1])"
   ]
  },
  {
   "attachments": {},
   "cell_type": "markdown",
   "id": "secure-flesh",
   "metadata": {},
   "source": [
    "Once the data are assigned to the grid, we construct the matrices. Once the latter is created, we also construct the right-hand side containing the boundary conditions."
   ]
  },
  {
   "cell_type": "code",
   "execution_count": 4,
   "id": "romance-findings",
   "metadata": {},
   "outputs": [],
   "source": [
    "# definition of the discretizations\n",
    "vec_p1 = pg.VecLagrange1(key)\n",
    "p0 = pg.PwConstants(key)\n",
    "rt0 = pg.RT0(key)\n",
    "\n",
    "# construction of the block matrices\n",
    "mass_q = rt0.assemble_mass_matrix(sd)\n",
    "mass_p = p0.assemble_mass_matrix(sd)\n",
    "div_q = mass_p @ rt0.assemble_diff_matrix(sd)\n",
    "\n",
    "div_u = mass_p @ vec_p1.assemble_div_matrix(sd)\n",
    "\n",
    "stiff_u = vec_p1.assemble_stiff_matrix(sd, data)\n",
    "\n",
    "b = vec_p1.assemble_nat_bc(sd, fun, top_s)\n",
    "\n",
    "# fmt: off\n",
    "# construction of the global problem\n",
    "spp = sps.bmat([[     stiff_u,              None,   -alpha * div_u.T],\n",
    "                [        None,  delta_t * mass_q, -delta_t * div_q.T],\n",
    "                [alpha * div_u,  delta_t * div_q,        s0 * mass_p]])\n",
    "# fmt: on\n",
    "\n",
    "# regroup of the right-hand side\n",
    "bd = np.hstack((bd_u, bd_q, np.zeros(sd.num_cells, dtype=bool)))\n",
    "rhs = np.hstack((b, np.zeros(sd.num_cells + sd.num_faces)))\n",
    "\n",
    "# dofs for the different variables\n",
    "dof_u = sd.num_nodes * dim\n",
    "dof_q = sd.num_faces\n",
    "dof_p = sd.num_cells\n",
    "dofs = np.cumsum([dof_u, dof_q, dof_p])"
   ]
  },
  {
   "cell_type": "markdown",
   "id": "mobile-nirvana",
   "metadata": {},
   "source": [
    "We need to solve the linear system, PyGeoN provides a framework for that. The actual imposition of essential boundary conditions (displacement boundary conditions) might change the symmetry of the global system, the class `pg.LinearSystem` preserves this structure by internally eliminating these degrees of freedom."
   ]
  },
  {
   "cell_type": "code",
   "execution_count": 5,
   "id": "subtle-wonder",
   "metadata": {},
   "outputs": [],
   "source": [
    "# solution of the problem\n",
    "# NOTE: in case of the quasi static Biot model, the temporal for loop should be placed around the next lines of code\n",
    "ls = pg.LinearSystem(spp, rhs)\n",
    "ls.flag_ess_bc(bd, np.zeros_like(bd))\n",
    "x = ls.solve()\n",
    "\n",
    "# split of the solution from the vector x\n",
    "u, q, p = np.split(x, dofs[:-1])"
   ]
  },
  {
   "cell_type": "markdown",
   "id": "8c8a01a0",
   "metadata": {},
   "source": [
    "We post-process now the stress tensor, one `sd.dim` x `sd.dim` tensor per cell."
   ]
  },
  {
   "cell_type": "code",
   "execution_count": 6,
   "id": "1c190500",
   "metadata": {},
   "outputs": [],
   "source": [
    "cell_sigma = vec_p1.compute_stress(sd, u, data)\n",
    "\n",
    "# split the tensor in each component for the exporting\n",
    "cell_sigma_xx = cell_sigma[:, 0, 0]\n",
    "cell_sigma_xy = cell_sigma[:, 0, 1]\n",
    "cell_sigma_yy = cell_sigma[:, 1, 1]"
   ]
  },
  {
   "cell_type": "markdown",
   "id": "pacific-alpha",
   "metadata": {},
   "source": [
    "Since the computed $u$ is a vector per peak of the grid, for visualization purposes we project the displacement in each cell center as vector. Similarly for the flow field $q$. We finally export the solution to be visualized by [ParaView](https://www.paraview.org/)."
   ]
  },
  {
   "cell_type": "code",
   "execution_count": 7,
   "id": "satisfactory-jerusalem",
   "metadata": {},
   "outputs": [],
   "source": [
    "# compute the cell displacement, one vector per cell\n",
    "proj = vec_p1.eval_at_cell_centers(sd)\n",
    "cell_u = proj @ u\n",
    "# we need to add the z component for the exporting\n",
    "cell_u = np.hstack((cell_u, np.zeros(sd.num_cells)))\n",
    "cell_u = cell_u.reshape((3, -1))\n",
    "\n",
    "# compute the cell flow, one vector per cell\n",
    "proj_q = rt0.eval_at_cell_centers(sd)\n",
    "cell_q = (proj_q * q).reshape((3, -1), order=\"F\")\n",
    "cell_p = p0.eval_at_cell_centers(sd) * p\n",
    "\n",
    "# export the final solution\n",
    "save = pp.Exporter(sd, \"sol\", folder_name=\"ex1\")\n",
    "save.write_vtu(\n",
    "    [\n",
    "        (\"cell_u\", cell_u),\n",
    "        (\"cell_q\", cell_q),\n",
    "        (\"cell_p\", cell_p),\n",
    "        (\"cell_sigma_xx\", cell_sigma_xx),\n",
    "        (\"cell_sigma_xy\", cell_sigma_xy),\n",
    "        (\"cell_sigma_yy\", cell_sigma_yy),\n",
    "    ]\n",
    ")"
   ]
  }
 ],
 "metadata": {
  "kernelspec": {
   "display_name": "Python 3 (ipykernel)",
   "language": "python",
   "name": "python3"
  },
  "language_info": {
   "codemirror_mode": {
    "name": "ipython",
    "version": 3
   },
   "file_extension": ".py",
   "mimetype": "text/x-python",
   "name": "python",
   "nbconvert_exporter": "python",
   "pygments_lexer": "ipython3",
   "version": "3.10.12"
  },
  "vscode": {
   "interpreter": {
    "hash": "e4cc1db98167c7fd7d55a1da8057731abc6cd6fe154328a2ae319df8aab4e24d"
   }
  }
 },
 "nbformat": 4,
 "nbformat_minor": 5
}
